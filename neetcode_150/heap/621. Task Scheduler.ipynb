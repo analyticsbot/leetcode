{
 "cells": [
  {
   "cell_type": "markdown",
   "metadata": {},
   "source": [
    "You are given an array of CPU tasks, each labeled with a letter from A to Z, and a number n. Each CPU interval can be idle or allow the completion of one task. Tasks can be completed in any order, but there's a constraint: there has to be a gap of at least n intervals between two tasks with the same label.\n",
    "\n",
    "Return the minimum number of CPU intervals required to complete all tasks.\n",
    "\n",
    " \n",
    "\n",
    "Example 1:\n",
    "\n",
    "Input: tasks = [\"A\",\"A\",\"A\",\"B\",\"B\",\"B\"], n = 2\n",
    "\n",
    "Output: 8\n",
    "\n",
    "Explanation: A possible sequence is: A -> B -> idle -> A -> B -> idle -> A -> B.\n",
    "\n",
    "After completing task A, you must wait two intervals before doing A again. The same applies to task B. In the 3rd interval, neither A nor B can be done, so you idle. By the 4th interval, you can do A again as 2 intervals have passed.\n",
    "\n",
    "Example 2:\n",
    "\n",
    "Input: tasks = [\"A\",\"C\",\"A\",\"B\",\"D\",\"B\"], n = 1\n",
    "\n",
    "Output: 6\n",
    "\n",
    "Explanation: A possible sequence is: A -> B -> C -> D -> A -> B.\n",
    "\n",
    "With a cooling interval of 1, you can repeat a task after just one other task.\n",
    "\n",
    "Example 3:\n",
    "\n",
    "Input: tasks = [\"A\",\"A\",\"A\", \"B\",\"B\",\"B\"], n = 3\n",
    "\n",
    "Output: 10\n",
    "\n",
    "Explanation: A possible sequence is: A -> B -> idle -> idle -> A -> B -> idle -> idle -> A -> B.\n",
    "\n",
    "There are only two types of tasks, A and B, which need to be separated by 3 intervals. This leads to idling twice between repetitions of these tasks.\n",
    "\n",
    " \n",
    "\n",
    "Constraints:\n",
    "\n",
    "1 <= tasks.length <= 104\n",
    "tasks[i] is an uppercase English letter.\n",
    "0 <= n <= 100"
   ]
  },
  {
   "cell_type": "code",
   "execution_count": 4,
   "metadata": {},
   "outputs": [
    {
     "ename": "NameError",
     "evalue": "name 'List' is not defined",
     "output_type": "error",
     "traceback": [
      "\u001b[0;31m---------------------------------------------------------------------------\u001b[0m",
      "\u001b[0;31mNameError\u001b[0m                                 Traceback (most recent call last)",
      "Cell \u001b[0;32mIn[4], line 4\u001b[0m\n\u001b[1;32m      1\u001b[0m \u001b[38;5;28;01mfrom\u001b[39;00m \u001b[38;5;21;01mcollections\u001b[39;00m \u001b[38;5;28;01mimport\u001b[39;00m Counter\n\u001b[1;32m      2\u001b[0m \u001b[38;5;28;01mimport\u001b[39;00m \u001b[38;5;21;01mheapq\u001b[39;00m\n\u001b[0;32m----> 4\u001b[0m \u001b[38;5;28;01mclass\u001b[39;00m \u001b[38;5;21;01mSolution\u001b[39;00m:\n\u001b[1;32m      5\u001b[0m     \u001b[38;5;28;01mdef\u001b[39;00m \u001b[38;5;21mleastInterval\u001b[39m(\u001b[38;5;28mself\u001b[39m, tasks: List[\u001b[38;5;28mstr\u001b[39m], n: \u001b[38;5;28mint\u001b[39m) \u001b[38;5;241m-\u001b[39m\u001b[38;5;241m>\u001b[39m \u001b[38;5;28mint\u001b[39m:\n\u001b[1;32m      6\u001b[0m         \u001b[38;5;66;03m# Count the frequency of each task\u001b[39;00m\n\u001b[1;32m      7\u001b[0m         task_counts \u001b[38;5;241m=\u001b[39m Counter(tasks)\n",
      "Cell \u001b[0;32mIn[4], line 5\u001b[0m, in \u001b[0;36mSolution\u001b[0;34m()\u001b[0m\n\u001b[1;32m      4\u001b[0m \u001b[38;5;28;01mclass\u001b[39;00m \u001b[38;5;21;01mSolution\u001b[39;00m:\n\u001b[0;32m----> 5\u001b[0m     \u001b[38;5;28;01mdef\u001b[39;00m \u001b[38;5;21mleastInterval\u001b[39m(\u001b[38;5;28mself\u001b[39m, tasks: \u001b[43mList\u001b[49m[\u001b[38;5;28mstr\u001b[39m], n: \u001b[38;5;28mint\u001b[39m) \u001b[38;5;241m-\u001b[39m\u001b[38;5;241m>\u001b[39m \u001b[38;5;28mint\u001b[39m:\n\u001b[1;32m      6\u001b[0m         \u001b[38;5;66;03m# Count the frequency of each task\u001b[39;00m\n\u001b[1;32m      7\u001b[0m         task_counts \u001b[38;5;241m=\u001b[39m Counter(tasks)\n\u001b[1;32m      9\u001b[0m         \u001b[38;5;66;03m# Use a max heap for task frequencies (negative values because Python only has min-heaps)\u001b[39;00m\n",
      "\u001b[0;31mNameError\u001b[0m: name 'List' is not defined"
     ]
    }
   ],
   "source": [
    "from collections import Counter\n",
    "import heapq\n",
    "\n",
    "class Solution:\n",
    "    def leastInterval(self, tasks: List[str], n: int) -> int:\n",
    "        # Count the frequency of each task\n",
    "        task_counts = Counter(tasks)\n",
    "        \n",
    "        # Use a max heap for task frequencies (negative values because Python only has min-heaps)\n",
    "        max_heap = [-count for count in task_counts.values()]\n",
    "        print (max_heap)\n",
    "        heapq.heapify(max_heap)\n",
    "        print (max_heap)\n",
    "        \n",
    "        time = 0\n",
    "        while max_heap:\n",
    "            temp = []  # Tasks to process during the current cycle\n",
    "            for _ in range(n + 1):  # Attempt to fill the cooldown window\n",
    "                if max_heap:\n",
    "                    count = heapq.heappop(max_heap)\n",
    "                    if count + 1 < 0:  # Still more of this task remaining\n",
    "                        temp.append(count + 1)\n",
    "                \n",
    "                time += 1\n",
    "                if not max_heap and not temp:\n",
    "                    break  # All tasks are done\n",
    "            \n",
    "            for item in temp:\n",
    "                heapq.heappush(max_heap, item)\n",
    "            print (max_heap)\n",
    "        \n",
    "        return time\n"
   ]
  },
  {
   "cell_type": "markdown",
   "metadata": {},
   "source": []
  }
 ],
 "metadata": {
  "kernelspec": {
   "display_name": "cv",
   "language": "python",
   "name": "python3"
  },
  "language_info": {
   "codemirror_mode": {
    "name": "ipython",
    "version": 3
   },
   "file_extension": ".py",
   "mimetype": "text/x-python",
   "name": "python",
   "nbconvert_exporter": "python",
   "pygments_lexer": "ipython3",
   "version": "3.10.13"
  }
 },
 "nbformat": 4,
 "nbformat_minor": 2
}
