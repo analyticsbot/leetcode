{
 "cells": [
  {
   "cell_type": "markdown",
   "metadata": {},
   "source": [
    "The median is the middle value in an ordered integer list. If the size of the list is even, there is no middle value, and the median is the mean of the two middle values.\n",
    "\n",
    "For example, for arr = [2,3,4], the median is 3.\n",
    "For example, for arr = [2,3], the median is (2 + 3) / 2 = 2.5.\n",
    "Implement the MedianFinder class:\n",
    "\n",
    "MedianFinder() initializes the MedianFinder object.\n",
    "void addNum(int num) adds the integer num from the data stream to the data structure.\n",
    "double findMedian() returns the median of all elements so far. Answers within 10-5 of the actual answer will be accepted.\n",
    " \n",
    "\n",
    "Example 1:\n",
    "\n",
    "Input\n",
    "[\"MedianFinder\", \"addNum\", \"addNum\", \"findMedian\", \"addNum\", \"findMedian\"]\n",
    "[[], [1], [2], [], [3], []]\n",
    "Output\n",
    "[null, null, null, 1.5, null, 2.0]\n",
    "\n",
    "Explanation\n",
    "MedianFinder medianFinder = new MedianFinder();\n",
    "medianFinder.addNum(1);    // arr = [1]\n",
    "medianFinder.addNum(2);    // arr = [1, 2]\n",
    "medianFinder.findMedian(); // return 1.5 (i.e., (1 + 2) / 2)\n",
    "medianFinder.addNum(3);    // arr[1, 2, 3]\n",
    "medianFinder.findMedian(); // return 2.0\n",
    " \n",
    "\n",
    "Constraints:\n",
    "\n",
    "-105 <= num <= 105\n",
    "There will be at least one element in the data structure before calling findMedian.\n",
    "At most 5 * 104 calls will be made to addNum and findMedian.\n",
    " \n",
    "\n",
    "Follow up:\n",
    "\n",
    "If all integer numbers from the stream are in the range [0, 100], how would you optimize your solution?\n",
    "If 99% of all integer numbers from the stream are in the range [0, 100], how would you optimize your solution?"
   ]
  },
  {
   "cell_type": "code",
   "execution_count": null,
   "metadata": {
    "vscode": {
     "languageId": "plaintext"
    }
   },
   "outputs": [],
   "source": [
    "import heapq\n",
    "class MedianFinder:\n",
    "\n",
    "    def __init__(self):\n",
    "        self.nums = []\n",
    "\n",
    "    def addNum(self, num: int) -> None:\n",
    "        heapq.heappush(self.nums, num)\n",
    "        \n",
    "\n",
    "    def findMedian(self) -> float:\n",
    "        # Create a copy of the heap to avoid destructive operations\n",
    "        nums_copy = self.nums[:]\n",
    "        vals = []\n",
    "\n",
    "        # Pop all elements from the copy and store them in `vals`\n",
    "        while nums_copy:\n",
    "            vals.append(heapq.heappop(nums_copy))\n",
    "\n",
    "        num_elements = len(vals)\n",
    "\n",
    "        # Calculate the median\n",
    "        if num_elements % 2 == 1:  # Odd number of elements\n",
    "            return vals[num_elements // 2]\n",
    "        else:  # Even number of elements\n",
    "            return (vals[num_elements // 2 - 1] + vals[num_elements // 2]) / 2\n",
    "        \n",
    "\n",
    "\n",
    "# Your MedianFinder object will be instantiated and called as such:\n",
    "# obj = MedianFinder()\n",
    "# obj.addNum(num)\n",
    "# param_2 = obj.findMedian()"
   ]
  },
  {
   "cell_type": "code",
   "execution_count": null,
   "metadata": {
    "vscode": {
     "languageId": "plaintext"
    }
   },
   "outputs": [],
   "source": [
    "import heapq\n",
    "\n",
    "class MedianFinder:\n",
    "\n",
    "    def __init__(self):\n",
    "        self.lower_half = []  # Max-heap (store negatives to simulate max-heap)\n",
    "        self.upper_half = []  # Min-heap\n",
    "\n",
    "    def addNum(self, num: int) -> None:\n",
    "        # Add to max-heap first\n",
    "        heapq.heappush(self.lower_half, -num)\n",
    "\n",
    "        # Ensure the largest number in lower_half is smaller than the smallest in upper_half\n",
    "        if self.lower_half and self.upper_half and (-self.lower_half[0] > self.upper_half[0]):\n",
    "            heapq.heappush(self.upper_half, -heapq.heappop(self.lower_half))\n",
    "\n",
    "        # Balance the sizes of the two heaps\n",
    "        if len(self.lower_half) > len(self.upper_half) + 1:\n",
    "            heapq.heappush(self.upper_half, -heapq.heappop(self.lower_half))\n",
    "        elif len(self.upper_half) > len(self.lower_half):\n",
    "            heapq.heappush(self.lower_half, -heapq.heappop(self.upper_half))\n",
    "\n",
    "    def findMedian(self) -> float:\n",
    "        # If the heaps are of different sizes, the max-heap (`lower_half`) will have the median\n",
    "        if len(self.lower_half) > len(self.upper_half):\n",
    "            return -self.lower_half[0]\n",
    "        # If the heaps are of equal size, the median is the average of the roots\n",
    "        return (-self.lower_half[0] + self.upper_half[0]) / 2\n"
   ]
  },
  {
   "cell_type": "markdown",
   "metadata": {},
   "source": []
  }
 ],
 "metadata": {
  "language_info": {
   "name": "python"
  }
 },
 "nbformat": 4,
 "nbformat_minor": 2
}
