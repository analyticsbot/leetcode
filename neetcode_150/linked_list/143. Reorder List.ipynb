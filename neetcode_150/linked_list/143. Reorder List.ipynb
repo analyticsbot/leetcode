{
 "cells": [
  {
   "cell_type": "markdown",
   "metadata": {},
   "source": [
    "You are given the head of a singly linked-list. The list can be represented as:\n",
    "\n",
    "L0 → L1 → … → Ln - 1 → Ln\n",
    "Reorder the list to be on the following form:\n",
    "\n",
    "L0 → Ln → L1 → Ln - 1 → L2 → Ln - 2 → …\n",
    "You may not modify the values in the list's nodes. Only nodes themselves may be changed.\n",
    "\n",
    " \n",
    "\n",
    "Example 1:\n",
    "\n",
    "\n",
    "Input: head = [1,2,3,4]\n",
    "Output: [1,4,2,3]\n",
    "Example 2:\n",
    "\n",
    "\n",
    "Input: head = [1,2,3,4,5]\n",
    "Output: [1,5,2,4,3]\n",
    " \n",
    "\n",
    "Constraints:\n",
    "\n",
    "The number of nodes in the list is in the range [1, 5 * 104].\n",
    "1 <= Node.val <= 1000"
   ]
  },
  {
   "cell_type": "code",
   "execution_count": null,
   "metadata": {},
   "outputs": [],
   "source": [
    "# Definition for singly-linked list.\n",
    "# class ListNode:\n",
    "#     def __init__(self, val=0, next=None):\n",
    "#         self.val = val\n",
    "#         self.next = next\n",
    "class Solution:\n",
    "    def reorderList(self, head: Optional[ListNode]) -> None:\n",
    "        # Step 1: Find the middle of the list using slow and fast pointers\n",
    "        slow, fast = head, head\n",
    "        while fast and fast.next:\n",
    "            slow = slow.next\n",
    "            fast = fast.next.next\n",
    "        \n",
    "        # Step 2: Reverse the second half of the list\n",
    "        second = slow.next\n",
    "        slow.next = None  # Split the list into two halves\n",
    "        prev = None\n",
    "        while second:\n",
    "            next_node = second.next\n",
    "            second.next = prev\n",
    "            prev = second\n",
    "            second = next_node\n",
    "        \n",
    "        # Step 3: Merge the two halves\n",
    "        first, second = head, prev\n",
    "        while second:\n",
    "            tmp1, tmp2 = first.next, second.next\n",
    "            first.next = second\n",
    "            second.next = tmp1\n",
    "            first = tmp1\n",
    "            second = tmp2\n",
    "\n",
    "        "
   ]
  },
  {
   "cell_type": "markdown",
   "metadata": {},
   "source": []
  }
 ],
 "metadata": {
  "kernelspec": {
   "display_name": "cv",
   "language": "python",
   "name": "python3"
  },
  "language_info": {
   "name": "python",
   "version": "3.10.13"
  }
 },
 "nbformat": 4,
 "nbformat_minor": 2
}
