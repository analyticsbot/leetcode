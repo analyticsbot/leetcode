{
 "cells": [
  {
   "cell_type": "markdown",
   "metadata": {},
   "source": [
    "Given the head of a singly linked list, reverse the list, and return the reversed list.\n",
    "\n",
    " \n",
    "\n",
    "Example 1:\n",
    "\n",
    "\n",
    "Input: head = [1,2,3,4,5]\n",
    "Output: [5,4,3,2,1]\n",
    "Example 2:\n",
    "\n",
    "\n",
    "Input: head = [1,2]\n",
    "Output: [2,1]\n",
    "Example 3:\n",
    "\n",
    "Input: head = []\n",
    "Output: []\n",
    " \n",
    "\n",
    "Constraints:\n",
    "\n",
    "The number of nodes in the list is the range [0, 5000].\n",
    "-5000 <= Node.val <= 5000\n",
    " \n",
    "\n",
    "Follow up: A linked list can be reversed either iteratively or recursively. Could you implement both?"
   ]
  },
  {
   "cell_type": "code",
   "execution_count": null,
   "metadata": {},
   "outputs": [],
   "source": [
    "# Definition for singly-linked list.\n",
    "# class ListNode:\n",
    "#     def __init__(self, val=0, next=None):\n",
    "#         self.val = val\n",
    "#         self.next = next\n",
    "class Solution:\n",
    "    def reverseList(self, head: Optional[ListNode]) -> Optional[ListNode]:\n",
    "        l = []\n",
    "        while head:\n",
    "            l.append(head.val)\n",
    "            head = head.next\n",
    "        \n",
    "        # Initialize the new head of the reversed list\n",
    "        ln = None\n",
    "        for i in l:\n",
    "            new_node = ListNode(i)  # Create a new node with the current value\n",
    "            new_node.next = ln      # Point the new node to the current list\n",
    "            ln = new_node           # Update the head of the reversed list\n",
    "        \n",
    "        return ln"
   ]
  },
  {
   "cell_type": "markdown",
   "metadata": {},
   "source": [
    "#### **Collect Values**:\n",
    "- The `l` list collects all node values from the original list.\n",
    "\n",
    "#### **Build the Reversed List**:\n",
    "1. Instead of trying to overwrite the value of a single node (`ln.val`), create a new node (`new_node`) for each value.\n",
    "2. Link each new node to the current reversed list (`new_node.next = ln`).\n",
    "3. Update the `ln` pointer to point to the new head of the reversed list.\n",
    "\n",
    "\n",
    "#### Example Walkthrough:\n",
    "For input list: `1 -> 2 -> 3`:\n",
    "\n",
    "#### **Step 1**: Collect values in `l`:  \n",
    "`[1, 2, 3]`.\n",
    "\n",
    "#### **Step 2**: Iterate through `l[::-1]` (i.e., `[3, 2, 1]`):\n",
    "- Create nodes and link them:  \n",
    "  `3 -> 2 -> 1`.\n"
   ]
  },
  {
   "cell_type": "code",
   "execution_count": null,
   "metadata": {},
   "outputs": [],
   "source": [
    "class Solution:\n",
    "    def reverseList(self, head: Optional[ListNode]) -> Optional[ListNode]:\n",
    "        prev = None\n",
    "        current = head\n",
    "        while current:\n",
    "            next_node = current.next  # Save the next node\n",
    "            current.next = prev       # Reverse the current node's pointer\n",
    "            prev = current            # Move prev to the current node\n",
    "            current = next_node       # Move to the next node\n",
    "        return prev  # prev becomes the new head\n"
   ]
  },
  {
   "cell_type": "code",
   "execution_count": null,
   "metadata": {},
   "outputs": [],
   "source": [
    "class Solution:\n",
    "    def reverseList(self, head: Optional[ListNode]) -> Optional[ListNode]:\n",
    "        # Base case: if the list is empty or only one node, return it\n",
    "        if not head or not head.next:\n",
    "            return head\n",
    "        \n",
    "        # Recursive case\n",
    "        new_head = self.reverseList(head.next)  # Reverse the rest of the list\n",
    "        head.next.next = head  # Make the next node point back to the current node\n",
    "        head.next = None       # Disconnect the current node from the rest of the list\n",
    "        return new_head  # Return the new head of the reversed list\n"
   ]
  },
  {
   "cell_type": "markdown",
   "metadata": {},
   "source": []
  }
 ],
 "metadata": {
  "kernelspec": {
   "display_name": "cv",
   "language": "python",
   "name": "python3"
  },
  "language_info": {
   "codemirror_mode": {
    "name": "ipython",
    "version": 3
   },
   "file_extension": ".py",
   "mimetype": "text/x-python",
   "name": "python",
   "nbconvert_exporter": "python",
   "pygments_lexer": "ipython3",
   "version": "3.10.13"
  }
 },
 "nbformat": 4,
 "nbformat_minor": 2
}
