{
 "cells": [
  {
   "cell_type": "markdown",
   "metadata": {},
   "source": [
    "Given head, the head of a linked list, determine if the linked list has a cycle in it.\n",
    "\n",
    "There is a cycle in a linked list if there is some node in the list that can be reached again by continuously following the next pointer. Internally, pos is used to denote the index of the node that tail's next pointer is connected to. Note that pos is not passed as a parameter.\n",
    "\n",
    "Return true if there is a cycle in the linked list. Otherwise, return false.\n",
    "\n",
    " \n",
    "\n",
    "Example 1:\n",
    "\n",
    "\n",
    "Input: head = [3,2,0,-4], pos = 1\n",
    "Output: true\n",
    "Explanation: There is a cycle in the linked list, where the tail connects to the 1st node (0-indexed).\n",
    "Example 2:\n",
    "\n",
    "\n",
    "Input: head = [1,2], pos = 0\n",
    "Output: true\n",
    "Explanation: There is a cycle in the linked list, where the tail connects to the 0th node.\n",
    "Example 3:\n",
    "\n",
    "\n",
    "Input: head = [1], pos = -1\n",
    "Output: false\n",
    "Explanation: There is no cycle in the linked list.\n",
    " \n",
    "\n",
    "Constraints:\n",
    "\n",
    "The number of the nodes in the list is in the range [0, 104].\n",
    "-105 <= Node.val <= 105\n",
    "pos is -1 or a valid index in the linked-list.\n",
    " \n",
    "\n",
    "Follow up: Can you solve it using O(1) (i.e. constant) memory?"
   ]
  },
  {
   "cell_type": "code",
   "execution_count": null,
   "metadata": {},
   "outputs": [],
   "source": [
    "class Solution:\n",
    "    def hasCycle(self, head: Optional[ListNode]) -> bool:\n",
    "        # Initialize two pointers, slow and fast\n",
    "        slow, fast = head, head\n",
    "\n",
    "        # Traverse the linked list\n",
    "        while fast and fast.next:\n",
    "            slow = slow.next          # Move slow pointer by one step\n",
    "            fast = fast.next.next     # Move fast pointer by two steps\n",
    "\n",
    "            # If slow and fast meet, a cycle is detected\n",
    "            if slow == fast:\n",
    "                return True\n",
    "\n",
    "        # If we reach the end of the list, no cycle exists\n",
    "        return False\n"
   ]
  },
  {
   "cell_type": "markdown",
   "metadata": {},
   "source": [
    "#### Explanation:\n",
    "\n",
    "#### Slow and Fast Pointers:\n",
    "- The `slow` pointer moves one step at a time.\n",
    "- The `fast` pointer moves two steps at a time.\n",
    "\n",
    "#### Cycle Detection:\n",
    "- If there's a cycle, the `slow` and `fast` pointers will eventually meet within the cycle.\n",
    "- If the `fast` pointer reaches `None` (the end of the list), it means there is no cycle.\n",
    "\n",
    "#### Time Complexity:\n",
    "- **O(n)**, where `n` is the number of nodes in the list.\n",
    "\n",
    "#### Space Complexity:\n",
    "- **O(1)**, since no extra data structures are used.\n"
   ]
  },
  {
   "cell_type": "markdown",
   "metadata": {},
   "source": []
  }
 ],
 "metadata": {
  "kernelspec": {
   "display_name": "cv",
   "language": "python",
   "name": "python3"
  },
  "language_info": {
   "name": "python",
   "version": "3.10.13"
  }
 },
 "nbformat": 4,
 "nbformat_minor": 2
}
