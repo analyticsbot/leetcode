{
 "cells": [
  {
   "cell_type": "markdown",
   "metadata": {},
   "source": [
    "Given an array of integers nums containing n + 1 integers where each integer is in the range [1, n] inclusive.\n",
    "\n",
    "There is only one repeated number in nums, return this repeated number.\n",
    "\n",
    "You must solve the problem without modifying the array nums and using only constant extra space.\n",
    "\n",
    " \n",
    "\n",
    "Example 1:\n",
    "\n",
    "Input: nums = [1,3,4,2,2]\n",
    "Output: 2\n",
    "Example 2:\n",
    "\n",
    "Input: nums = [3,1,3,4,2]\n",
    "Output: 3\n",
    "Example 3:\n",
    "\n",
    "Input: nums = [3,3,3,3,3]\n",
    "Output: 3\n",
    " \n",
    "\n",
    "Constraints:\n",
    "\n",
    "1 <= n <= 105\n",
    "nums.length == n + 1\n",
    "1 <= nums[i] <= n\n",
    "All the integers in nums appear only once except for precisely one integer which appears two or more times.\n",
    " \n",
    "\n",
    "Follow up:\n",
    "\n",
    "How can we prove that at least one duplicate number must exist in nums?\n",
    "Can you solve the problem in linear runtime complexity?"
   ]
  },
  {
   "cell_type": "code",
   "execution_count": null,
   "metadata": {},
   "outputs": [],
   "source": [
    "class Solution:\n",
    "    def findDuplicate(self, nums: List[int]) -> int:\n",
    "        # Initialize slow and fast pointers\n",
    "        slow, fast = nums[0], nums[0]\n",
    "\n",
    "        # Phase 1: Detect the cycle\n",
    "        while True:\n",
    "            slow = nums[slow]         # Move slow pointer by one step\n",
    "            fast = nums[nums[fast]]   # Move fast pointer by two steps\n",
    "            if slow == fast:          # Cycle detected\n",
    "                break\n",
    "\n",
    "        # Phase 2: Find the entrance to the cycle\n",
    "        slow = nums[0]               # Reset slow pointer to the start\n",
    "        while slow != fast:          # Move both pointers one step at a time\n",
    "            slow = nums[slow]\n",
    "            fast = nums[fast]\n",
    "\n",
    "        return slow  # The duplicate number\n"
   ]
  }
 ],
 "metadata": {
  "language_info": {
   "name": "python"
  }
 },
 "nbformat": 4,
 "nbformat_minor": 2
}
