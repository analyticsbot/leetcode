{
 "cells": [
  {
   "cell_type": "markdown",
   "metadata": {},
   "source": [
    "#### Medium\n",
    "**Topics**  \n",
    "**Companies**  \n",
    "\n",
    "Given the root of a binary search tree, and an integer k, return the kth smallest value (1-indexed) of all the values of the nodes in the tree.\n",
    "\n",
    "**Example 1:**  \n",
    "Input: root = [3,1,4,null,2], k = 1  \n",
    "Output: 1  \n",
    "\n",
    "**Example 2:**  \n",
    "Input: root = [5,3,6,2,4,null,null,1], k = 3  \n",
    "Output: 3  \n",
    "\n",
    "**Constraints:**  \n",
    "The number of nodes in the tree is n.  \n",
    "1 <= k <= n <= 104  \n",
    "0 <= Node.val <= 104  \n",
    "\n",
    "**Follow up:**  \n",
    "If the BST is modified often (i.e., we can do insert and delete operations) and you need to find the kth smallest frequently, how would you optimize?\n"
   ]
  },
  {
   "cell_type": "code",
   "execution_count": null,
   "metadata": {},
   "outputs": [],
   "source": [
    "# Definition for a binary tree node.\n",
    "# class TreeNode:\n",
    "#     def __init__(self, val=0, left=None, right=None):\n",
    "#         self.val = val\n",
    "#         self.left = left\n",
    "#         self.right = right\n",
    "class Solution:\n",
    "    def kthSmallest(self, root: Optional[TreeNode], k: int) -> int:\n",
    "        self.vals = []\n",
    "        \n",
    "        def dfs(node):\n",
    "            if not node:\n",
    "                return\n",
    "            \n",
    "            if node.left:\n",
    "                dfs(node.left)\n",
    "\n",
    "            self.vals.append(node.val)\n",
    "            \n",
    "            if node.right:\n",
    "                dfs(node.right)\n",
    "\n",
    "        dfs(root)\n",
    "            \n",
    "        print (self.vals)\n",
    "        return self.vals[k-1]"
   ]
  }
 ],
 "metadata": {
  "language_info": {
   "name": "python"
  }
 },
 "nbformat": 4,
 "nbformat_minor": 2
}
