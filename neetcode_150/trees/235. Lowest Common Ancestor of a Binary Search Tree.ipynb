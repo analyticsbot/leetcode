{
 "cells": [
  {
   "cell_type": "markdown",
   "metadata": {},
   "source": [
    "#### Medium  \n",
    "**Topics**  \n",
    "**Companies**  \n",
    "\n",
    "Given a binary search tree (BST), find the lowest common ancestor (LCA) node of two given nodes in the BST.  \n",
    "\n",
    "According to the definition of LCA on Wikipedia: “The lowest common ancestor is defined between two nodes p and q as the lowest node in T that has both p and q as descendants (where we allow a node to be a descendant of itself).”  \n",
    "\n",
    "**Example 1:**  \n",
    "**Input:** root = [6,2,8,0,4,7,9,null,null,3,5], p = 2, q = 8  \n",
    "**Output:** 6  \n",
    "**Explanation:** The LCA of nodes 2 and 8 is 6.  \n",
    "\n",
    "**Example 2:**  \n",
    "**Input:** root = [6,2,8,0,4,7,9,null,null,3,5], p = 2, q = 4  \n",
    "**Output:** 2  \n",
    "**Explanation:** The LCA of nodes 2 and 4 is 2, since a node can be a descendant of itself according to the LCA definition.  \n",
    "\n",
    "**Example 3:**  \n",
    "**Input:** root = [2,1], p = 2, q = 1  \n",
    "**Output:** 2  \n",
    "\n",
    "**Constraints:**  \n",
    "The number of nodes in the tree is in the range [2, 10⁵].  \n",
    "-10⁹ <= Node.val <= 10⁹  \n",
    "All Node.val are unique.  \n",
    "p != q  \n",
    "p and q will exist in the BST.  \n"
   ]
  },
  {
   "cell_type": "code",
   "execution_count": null,
   "metadata": {},
   "outputs": [],
   "source": [
    "# Definition for a binary tree node.\n",
    "# class TreeNode:\n",
    "#     def __init__(self, x):\n",
    "#         self.val = x\n",
    "#         self.left = None\n",
    "#         self.right = None\n",
    "\n",
    "class Solution:\n",
    "    def lowestCommonAncestor(self, root: 'TreeNode', p: 'TreeNode', q: 'TreeNode') -> 'TreeNode':\n",
    "        # Base case: if root is None, return None\n",
    "        if not root:\n",
    "            return None\n",
    "        \n",
    "        # If both p and q are smaller than root, then LCA lies in the left subtree\n",
    "        if p.val < root.val and q.val < root.val:\n",
    "            return self.lowestCommonAncestor(root.left, p, q)\n",
    "        \n",
    "        # If both p and q are greater than root, then LCA lies in the right subtree\n",
    "        if p.val > root.val and q.val > root.val:\n",
    "            return self.lowestCommonAncestor(root.right, p, q)\n",
    "        \n",
    "        # If one of p or q is on the left and the other is on the right, root is the LCA\n",
    "        return root\n"
   ]
  }
 ],
 "metadata": {
  "language_info": {
   "name": "python"
  }
 },
 "nbformat": 4,
 "nbformat_minor": 2
}
