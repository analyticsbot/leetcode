{
 "cells": [
  {
   "cell_type": "markdown",
   "metadata": {},
   "source": [
    "#### Easy  \n",
    "**Topics**  \n",
    "**Companies**  \n",
    "\n",
    "Given the roots of two binary trees, `p` and `q`, write a function to check if they are the same or not.  \n",
    "\n",
    "Two binary trees are considered the same if they are structurally identical, and the nodes have the same value.  \n",
    "\n",
    "**Example 1**  \n",
    "Input: `p = [1,2,3]`, `q = [1,2,3]`  \n",
    "Output: `true`  \n",
    "\n",
    "**Example 2**  \n",
    "Input: `p = [1,2]`, `q = [1,null,2]`  \n",
    "Output: `false`  \n",
    "\n",
    "**Example 3**  \n",
    "Input: `p = [1,2,1]`, `q = [1,1,2]`  \n",
    "Output: `false`  \n",
    "\n",
    "**Constraints**  \n",
    "The number of nodes in both trees is in the range [0, 100].  \n",
    "-10⁴ <= Node.val <= 10⁴  \n"
   ]
  },
  {
   "cell_type": "code",
   "execution_count": null,
   "metadata": {},
   "outputs": [],
   "source": [
    "from collections import deque\n",
    "\n",
    "class Solution:\n",
    "    def isSameTree(self, p: Optional[TreeNode], q: Optional[TreeNode]) -> bool:\n",
    "        if not p and not q:\n",
    "            return True  # Both trees are empty\n",
    "        if not p or not q:\n",
    "            return False  # One tree is empty, the other is not\n",
    "        \n",
    "        q1 = deque([p])\n",
    "        q2 = deque([q])\n",
    "        \n",
    "        while q1 and q2:\n",
    "            n1 = q1.popleft()\n",
    "            n2 = q2.popleft()\n",
    "            \n",
    "            # Compare node values\n",
    "            if n1.val != n2.val:\n",
    "                return False\n",
    "            \n",
    "            # Check left children\n",
    "            if (n1.left and not n2.left) or (not n1.left and n2.left):\n",
    "                return False\n",
    "            if n1.left:\n",
    "                q1.append(n1.left)\n",
    "                q2.append(n2.left)\n",
    "            \n",
    "            # Check right children\n",
    "            if (n1.right and not n2.right) or (not n1.right and n2.right):\n",
    "                return False\n",
    "            if n1.right:\n",
    "                q1.append(n1.right)\n",
    "                q2.append(n2.right)\n",
    "        \n",
    "        # Ensure both queues are empty\n",
    "        return not q1 and not q2\n"
   ]
  }
 ],
 "metadata": {
  "language_info": {
   "name": "python"
  }
 },
 "nbformat": 4,
 "nbformat_minor": 2
}
