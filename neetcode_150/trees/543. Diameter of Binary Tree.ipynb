{
 "cells": [
  {
   "cell_type": "markdown",
   "metadata": {},
   "source": [
    "#### Easy  \n",
    "**Topics**  \n",
    "**Companies**  \n",
    "\n",
    "Given the root of a binary tree, return the length of the diameter of the tree.  \n",
    "\n",
    "The diameter of a binary tree is the length of the longest path between any two nodes in a tree. This path may or may not pass through the root.  \n",
    "\n",
    "The length of a path between two nodes is represented by the number of edges between them.  \n",
    "\n",
    "**Example 1**  \n",
    "Input: root = [1,2,3,4,5]  \n",
    "Output: 3  \n",
    "Explanation: 3 is the length of the path [4,2,1,3] or [5,2,1,3].  \n",
    "\n",
    "**Example 2**  \n",
    "Input: root = [1,2]  \n",
    "Output: 1  \n",
    "\n",
    "**Constraints**  \n",
    "The number of nodes in the tree is in the range [1, 10⁴].  \n",
    "-100 <= Node.val <= 100  \n"
   ]
  },
  {
   "cell_type": "code",
   "execution_count": null,
   "metadata": {},
   "outputs": [],
   "source": [
    "# Definition for a binary tree node.\n",
    "# class TreeNode:\n",
    "#     def __init__(self, val=0, left=None, right=None):\n",
    "#         self.val = val\n",
    "#         self.left = left\n",
    "#         self.right = right\n",
    "class Solution:\n",
    "    def diameterOfBinaryTree(self, root: Optional[TreeNode]) -> int:\n",
    "        self.diameter = 0\n",
    "        \n",
    "        def height(node):\n",
    "            if not node:\n",
    "                return 0  # Base case: height of an empty subtree is 0\n",
    "            \n",
    "            # Recursively calculate the height of left and right subtrees\n",
    "            left_height = height(node.left)\n",
    "            right_height = height(node.right)\n",
    "            \n",
    "            # Update the diameter: maximum path through the current node\n",
    "            self.diameter = max(self.diameter, left_height + right_height)\n",
    "            \n",
    "            # Return the height of the subtree rooted at this node\n",
    "            return 1 + max(left_height, right_height)\n",
    "        \n",
    "        height(root)  # Start DFS traversal from the root\n",
    "        return self.diameter\n",
    "\n",
    "        \n",
    "        "
   ]
  }
 ],
 "metadata": {
  "language_info": {
   "name": "python"
  }
 },
 "nbformat": 4,
 "nbformat_minor": 2
}
