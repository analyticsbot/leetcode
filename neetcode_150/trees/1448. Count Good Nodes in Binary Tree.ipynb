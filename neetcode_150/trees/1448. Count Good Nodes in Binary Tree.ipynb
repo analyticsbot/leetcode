{
 "cells": [
  {
   "cell_type": "markdown",
   "metadata": {},
   "source": [
    "#### Medium  \n",
    "**Topics**  \n",
    "**Companies**  \n",
    "\n",
    "Given a binary tree `root`, a node `X` in the tree is named good if, in the path from `root` to `X`, there are no nodes with a value greater than `X`.\n",
    "\n",
    "Return the number of good nodes in the binary tree.\n",
    "\n",
    "**Example 1:**  \n",
    "Input: `root = [3,1,4,3,null,1,5]`  \n",
    "Output: `4`  \n",
    "Explanation: Nodes in blue are good.  \n",
    "- Root Node (3) is always a good node.  \n",
    "- Node 4 -> (3,4) is the maximum value in the path starting from the root.  \n",
    "- Node 5 -> (3,4,5) is the maximum value in the path.  \n",
    "- Node 3 -> (3,1,3) is the maximum value in the path.  \n",
    "\n",
    "**Example 2:**  \n",
    "Input: `root = [3,3,null,4,2]`  \n",
    "Output: `3`  \n",
    "Explanation: Node 2 -> (3, 3, 2) is not good, because \"3\" is higher than it.\n",
    "\n",
    "**Example 3:**  \n",
    "Input: `root = [1]`  \n",
    "Output: `1`  \n",
    "Explanation: Root is considered as good.\n",
    "\n",
    "**Constraints:**  \n",
    "- The number of nodes in the binary tree is in the range [1, 10^5].  \n",
    "- Each node's value is between [-10^4, 10^4].\n"
   ]
  },
  {
   "cell_type": "code",
   "execution_count": null,
   "metadata": {},
   "outputs": [],
   "source": [
    "# Definition for a binary tree node.\n",
    "# class TreeNode:\n",
    "#     def __init__(self, val=0, left=None, right=None):\n",
    "#         self.val = val\n",
    "#         self.left = left\n",
    "#         self.right = right\n",
    "class Solution:\n",
    "    def goodNodes(self, root: TreeNode) -> int:\n",
    "        \n",
    "        def dfs(node, max_val):\n",
    "            # Base case: if the node is None, return 0\n",
    "            if not node:\n",
    "                return 0\n",
    "            \n",
    "            # Count this node if its value is greater than or equal to max_val\n",
    "            good = 1 if node.val >= max_val else 0\n",
    "            \n",
    "            # Update the max_val as the maximum of current node value and the previous max_val\n",
    "            max_val = max(max_val, node.val)\n",
    "            \n",
    "            # Continue DFS on left and right children\n",
    "            good += dfs(node.left, max_val)\n",
    "            good += dfs(node.right, max_val)\n",
    "            \n",
    "            return good\n",
    "        \n",
    "        # Start DFS with the root node and an initial max value as negative infinity\n",
    "        return dfs(root, root.val)\n"
   ]
  }
 ],
 "metadata": {
  "language_info": {
   "name": "python"
  }
 },
 "nbformat": 4,
 "nbformat_minor": 2
}
