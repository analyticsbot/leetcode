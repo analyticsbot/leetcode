{
 "cells": [
  {
   "cell_type": "markdown",
   "metadata": {},
   "source": [
    "#### Easy  \n",
    "**Topics**  \n",
    "**Companies**  \n",
    "**Hint**  \n",
    "\n",
    "Given the roots of two binary trees, `root` and `subRoot`, return `true` if there is a subtree of `root` with the same structure and node values as `subRoot`, and `false` otherwise.  \n",
    "\n",
    "A subtree of a binary tree `tree` is a tree that consists of a node in `tree` and all of this node's descendants. The tree `tree` could also be considered as a subtree of itself.  \n",
    "\n",
    "**Example 1**  \n",
    "Input: `root = [3,4,5,1,2]`, `subRoot = [4,1,2]`  \n",
    "Output: `true`  \n",
    "\n",
    "**Example 2**  \n",
    "Input: `root = [3,4,5,1,2,null,null,null,null,0]`, `subRoot = [4,1,2]`  \n",
    "Output: `false`  \n",
    "\n",
    "**Constraints**  \n",
    "- The number of nodes in the `root` tree is in the range [1, 2000].  \n",
    "- The number of nodes in the `subRoot` tree is in the range [1, 1000].  \n",
    "- -10⁴ <= `root.val` <= 10⁴  \n",
    "- -10⁴ <= `subRoot.val` <= 10⁴  \n"
   ]
  },
  {
   "cell_type": "code",
   "execution_count": null,
   "metadata": {},
   "outputs": [],
   "source": [
    "# Definition for a binary tree node.\n",
    "# class TreeNode:\n",
    "#     def __init__(self, val=0, left=None, right=None):\n",
    "#         self.val = val\n",
    "#         self.left = left\n",
    "#         self.right = right\n",
    "from collections import deque\n",
    "\n",
    "class Solution:\n",
    "    def isSubtree(self, root: Optional[TreeNode], subRoot: Optional[TreeNode]) -> bool:\n",
    "        if not root:\n",
    "            return False\n",
    "        \n",
    "        q = deque([root])\n",
    "        \n",
    "        while q:\n",
    "            node = q.popleft()\n",
    "            \n",
    "            if node and node.val == subRoot.val:\n",
    "                if self.isSameTree(node, subRoot):\n",
    "                    return True\n",
    "            \n",
    "            if node:\n",
    "                if node.left:\n",
    "                    q.append(node.left)\n",
    "                if node.right:\n",
    "                    q.append(node.right)\n",
    "        \n",
    "        return False\n",
    "    \n",
    "    def isSameTree(self, p: Optional[TreeNode], q: Optional[TreeNode]) -> bool:\n",
    "        if not p and not q:\n",
    "            return True\n",
    "        if not p or not q or p.val != q.val:\n",
    "            return False\n",
    "\n",
    "        return (self.isSameTree(p.left, q.left) and\n",
    "                self.isSameTree(p.right, q.right))\n"
   ]
  }
 ],
 "metadata": {
  "language_info": {
   "name": "python"
  }
 },
 "nbformat": 4,
 "nbformat_minor": 2
}
