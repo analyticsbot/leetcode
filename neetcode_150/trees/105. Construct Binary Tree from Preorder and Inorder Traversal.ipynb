{
 "cells": [
  {
   "cell_type": "markdown",
   "metadata": {},
   "source": [
    "#### Problem: Construct Binary Tree from Preorder and Inorder Traversal\n",
    "\n",
    "Given two integer arrays `preorder` and `inorder`, where `preorder` is the preorder traversal of a binary tree and `inorder` is the inorder traversal of the same tree, construct and return the binary tree.\n",
    "\n",
    "**Example 1:**\n",
    "\n",
    "Input: preorder = [3,9,20,15,7], inorder = [9,3,15,20,7]  \n",
    "Output: [3,9,20,null,null,15,7]\n",
    "\n",
    "**Example 2:**\n",
    "\n",
    "Input: preorder = [-1], inorder = [-1]  \n",
    "Output: [-1]\n",
    "\n",
    "### Constraints:\n",
    "- 1 <= preorder.length <= 3000\n",
    "- inorder.length == preorder.length\n",
    "- -3000 <= preorder[i], inorder[i] <= 3000\n",
    "- preorder and inorder consist of unique values.\n",
    "- Each value of inorder also appears in preorder.\n",
    "- preorder is guaranteed to be the preorder traversal of the tree.\n",
    "- inorder is guaranteed to be the inorder traversal of the tree.\n"
   ]
  },
  {
   "cell_type": "code",
   "execution_count": null,
   "metadata": {},
   "outputs": [],
   "source": [
    "# Definition for a binary tree node.\n",
    "# class TreeNode:\n",
    "#     def __init__(self, val=0, left=None, right=None):\n",
    "#         self.val = val\n",
    "#         self.left = left\n",
    "#         self.right = right\n",
    "\n",
    "class Solution:\n",
    "    def buildTree(self, preorder: List[int], inorder: List[int]) -> Optional[TreeNode]:\n",
    "        # Base case: if preorder or inorder is empty, return None\n",
    "        if not preorder or not inorder:\n",
    "            return None\n",
    "        \n",
    "        # The root is the first element in preorder\n",
    "        root_val = preorder[0]\n",
    "        root = TreeNode(root_val)\n",
    "        \n",
    "        # Find the index of the root in inorder to split the tree into left and right subtrees\n",
    "        root_index_in_inorder = inorder.index(root_val)\n",
    "        \n",
    "        # The left subtree elements are everything before the root in inorder\n",
    "        left_inorder = inorder[:root_index_in_inorder]\n",
    "        # The right subtree elements are everything after the root in inorder\n",
    "        right_inorder = inorder[root_index_in_inorder + 1:]\n",
    "        \n",
    "        # The preorder list for the left subtree starts from the second element and is the same length as the left subtree in inorder\n",
    "        left_preorder = preorder[1:1 + len(left_inorder)]\n",
    "        # The preorder list for the right subtree starts after the left subtree portion\n",
    "        right_preorder = preorder[1 + len(left_inorder):]\n",
    "        \n",
    "        # Recursively build the left and right subtrees\n",
    "        root.left = self.buildTree(left_preorder, left_inorder)\n",
    "        root.right = self.buildTree(right_preorder, right_inorder)\n",
    "        \n",
    "        return root\n"
   ]
  }
 ],
 "metadata": {
  "language_info": {
   "name": "python"
  }
 },
 "nbformat": 4,
 "nbformat_minor": 2
}
