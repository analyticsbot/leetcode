{
 "cells": [
  {
   "cell_type": "markdown",
   "metadata": {},
   "source": [
    "#### Medium \n",
    "\n",
    "Topics Companies Given the root of a binary tree, determine if it is a valid binary search tree (BST). A valid BST is defined as follows: The left subtree of a node contains only nodes with keys less than the node's key. The right subtree of a node contains only nodes with keys greater than the node's key. Both the left and right subtrees must also be binary search trees.\n",
    "\n",
    "Example 1:\n",
    "\n",
    "Input: root = [2,1,3]  \n",
    "Output: true  \n",
    "Example 2:\n",
    "\n",
    "Input: root = [5,1,4,null,null,3,6]  \n",
    "Output: false  \n",
    "Explanation: The root node's value is 5 but its right child's value is 4.\n",
    "\n",
    "Constraints:\n",
    "\n",
    "The number of nodes in the tree is in the range [1, 104].  \n",
    "-231 <= Node.val <= 231 - 1\n"
   ]
  },
  {
   "cell_type": "code",
   "execution_count": null,
   "metadata": {},
   "outputs": [],
   "source": [
    "class Solution:\n",
    "    def isValidBST(self, root: Optional[TreeNode]) -> bool:\n",
    "\n",
    "        def dfs(node, lower, upper):\n",
    "            if not node:\n",
    "                return True\n",
    "            if node.val <= lower or node.val >= upper:\n",
    "                return False\n",
    "            # Recursively check the left and right subtrees\n",
    "            left_is_valid = dfs(node.left, lower, node.val)\n",
    "            right_is_valid = dfs(node.right, node.val, upper)\n",
    "            \n",
    "            return left_is_valid and right_is_valid\n",
    "\n",
    "        return dfs(root, float('-inf'), float('inf'))"
   ]
  }
 ],
 "metadata": {
  "language_info": {
   "name": "python"
  }
 },
 "nbformat": 4,
 "nbformat_minor": 2
}
