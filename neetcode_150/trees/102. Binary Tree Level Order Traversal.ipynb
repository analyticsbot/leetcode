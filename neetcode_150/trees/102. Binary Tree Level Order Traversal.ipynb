{
 "cells": [
  {
   "cell_type": "markdown",
   "metadata": {},
   "source": [
    "#### Medium  \n",
    "**Topics**  \n",
    "**Companies**  \n",
    "\n",
    "Given the root of a binary tree, return the level order traversal of its nodes' values. (i.e., from left to right, level by level).  \n",
    "\n",
    "**Example 1:**  \n",
    "**Input:** root = [3,9,20,null,null,15,7]  \n",
    "**Output:** [[3],[9,20],[15,7]]  \n",
    "\n",
    "**Example 2:**  \n",
    "**Input:** root = [1]  \n",
    "**Output:** [[1]]  \n",
    "\n",
    "**Example 3:**  \n",
    "**Input:** root = []  \n",
    "**Output:** []  \n",
    "\n",
    "**Constraints:**  \n",
    "The number of nodes in the tree is in the range [0, 2000].  \n",
    "-1000 <= Node.val <= 1000  \n"
   ]
  },
  {
   "cell_type": "code",
   "execution_count": null,
   "metadata": {},
   "outputs": [],
   "source": [
    "# Definition for a binary tree node.\n",
    "# class TreeNode:\n",
    "#     def __init__(self, val=0, left=None, right=None):\n",
    "#         self.val = val\n",
    "#         self.left = left\n",
    "#         self.right = right\n",
    "class Solution:\n",
    "    def levelOrder(self, root: Optional[TreeNode]) -> List[List[int]]:\n",
    "        if not root:\n",
    "            return []\n",
    "\n",
    "        result = []\n",
    "        q = deque([root])  # No need to track levels explicitly here\n",
    "\n",
    "        while q:\n",
    "            level_size = len(q)  # Number of nodes at the current level\n",
    "            temp = []  # To hold all node values at the current level\n",
    "            \n",
    "            for _ in range(level_size):\n",
    "                node = q.popleft()\n",
    "                temp.append(node.val)\n",
    "\n",
    "                if node.left:\n",
    "                    q.append(node.left)\n",
    "                if node.right:\n",
    "                    q.append(node.right)\n",
    "            \n",
    "            result.append(temp)  # Add the current level to the result\n",
    "\n",
    "        return result"
   ]
  }
 ],
 "metadata": {
  "language_info": {
   "name": "python"
  }
 },
 "nbformat": 4,
 "nbformat_minor": 2
}
