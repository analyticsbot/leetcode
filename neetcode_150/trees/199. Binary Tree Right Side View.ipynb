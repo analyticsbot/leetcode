{
 "cells": [
  {
   "cell_type": "markdown",
   "metadata": {},
   "source": [
    "#### Medium  \n",
    "**Topics**  \n",
    "**Companies**  \n",
    "\n",
    "Given the root of a binary tree, imagine yourself standing on the right side of it, return the values of the nodes you can see ordered from top to bottom.  \n",
    "\n",
    "**Example 1:**  \n",
    "Input: `root = [1,2,3,null,5,null,4]`  \n",
    "Output: `[1,3,4]`  \n",
    "\n",
    "**Example 2:**  \n",
    "Input: `root = [1,2,3,4,null,null,null,5]`  \n",
    "Output: `[1,3,4,5]`  \n",
    "\n",
    "**Example 3:**  \n",
    "Input: `root = [1,null,3]`  \n",
    "Output: `[1,3]`  \n",
    "\n",
    "**Example 4:**  \n",
    "Input: `root = []`  \n",
    "Output: `[]`  \n",
    "\n",
    "**Constraints:**  \n",
    "The number of nodes in the tree is in the range [0, 100].  \n",
    "-100 <= Node.val <= 100\n"
   ]
  },
  {
   "cell_type": "code",
   "execution_count": null,
   "metadata": {},
   "outputs": [],
   "source": [
    "from collections import deque\n",
    "\n",
    "class Solution:\n",
    "    def rightSideView(self, root: Optional[TreeNode]) -> List[int]:\n",
    "        if not root:\n",
    "            return []\n",
    "\n",
    "        q = deque([root])\n",
    "\n",
    "        right_view = []\n",
    "        while q:\n",
    "            level = len(q)\n",
    "            for i in range(level):\n",
    "                node = q.popleft()\n",
    "                if i==level-1:\n",
    "                    right_view.append(node.val)\n",
    "                \n",
    "                if node.left:\n",
    "                    q.append(node.left)\n",
    "                \n",
    "                if node.right:\n",
    "                    q.append(node.right)\n",
    "        return right_view"
   ]
  }
 ],
 "metadata": {
  "language_info": {
   "name": "python"
  }
 },
 "nbformat": 4,
 "nbformat_minor": 2
}
