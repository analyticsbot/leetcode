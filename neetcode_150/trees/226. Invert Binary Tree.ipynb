{
 "cells": [
  {
   "cell_type": "markdown",
   "metadata": {},
   "source": [
    "#### Problem: Invert Binary Tree\n",
    "\n",
    "Given the root of a binary tree, invert the tree, and return its root.\n",
    "\n",
    "#### Example 1\n",
    "- Input: `root = [4,2,7,1,3,6,9]`\n",
    "- Output: `[4,7,2,9,6,3,1]`\n",
    "\n",
    "#### Example 2\n",
    "- Input: `root = [2,1,3]`\n",
    "- Output: `[2,3,1]`\n",
    "\n",
    "#### Example 3\n",
    "- Input: `root = []`\n",
    "- Output: `[]`\n",
    "\n",
    "#### Constraints\n",
    "- The number of nodes in the tree is in the range `[0, 100]`.\n",
    "- `-100 <= Node.val <= 100`.\n"
   ]
  },
  {
   "cell_type": "code",
   "execution_count": null,
   "metadata": {},
   "outputs": [],
   "source": [
    "# Definition for a binary tree node.\n",
    "class TreeNode:\n",
    "    def __init__(self, val=0, left=None, right=None):\n",
    "        self.val = val\n",
    "        self.left = left\n",
    "        self.right = right\n",
    "class Solution:\n",
    "    def invertTree(self, root: Optional[TreeNode]) -> Optional[TreeNode]:\n",
    "        def dfs(node):\n",
    "            if not node:\n",
    "                return\n",
    "            \n",
    "            # Swap the left and right child nodes\n",
    "            node.left, node.right = node.right, node.left\n",
    "            \n",
    "            # Recursively apply the swap to the children\n",
    "            dfs(node.left)\n",
    "            dfs(node.right)\n",
    "        \n",
    "        dfs(root)\n",
    "        return root\n"
   ]
  }
 ],
 "metadata": {
  "language_info": {
   "name": "python"
  }
 },
 "nbformat": 4,
 "nbformat_minor": 2
}
