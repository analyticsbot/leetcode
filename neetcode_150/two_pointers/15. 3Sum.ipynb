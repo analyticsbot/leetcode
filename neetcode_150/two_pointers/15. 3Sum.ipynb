{
 "cells": [
  {
   "cell_type": "markdown",
   "metadata": {},
   "source": [
    "Given an integer array nums, return all the triplets [nums[i], nums[j], nums[k]] such that i != j, i != k, and j != k, and nums[i] + nums[j] + nums[k] == 0.\n",
    "\n",
    "Notice that the solution set must not contain duplicate triplets.\n",
    "\n",
    " \n",
    "\n",
    "Example 1:\n",
    "\n",
    "Input: nums = [-1,0,1,2,-1,-4]\n",
    "Output: [[-1,-1,2],[-1,0,1]]\n",
    "Explanation: \n",
    "nums[0] + nums[1] + nums[2] = (-1) + 0 + 1 = 0.\n",
    "nums[1] + nums[2] + nums[4] = 0 + 1 + (-1) = 0.\n",
    "nums[0] + nums[3] + nums[4] = (-1) + 2 + (-1) = 0.\n",
    "The distinct triplets are [-1,0,1] and [-1,-1,2].\n",
    "Notice that the order of the output and the order of the triplets does not matter.\n",
    "Example 2:\n",
    "\n",
    "Input: nums = [0,1,1]\n",
    "Output: []\n",
    "Explanation: The only possible triplet does not sum up to 0.\n",
    "Example 3:\n",
    "\n",
    "Input: nums = [0,0,0]\n",
    "Output: [[0,0,0]]\n",
    "Explanation: The only possible triplet sums up to 0.\n",
    " \n",
    "\n",
    "Constraints:\n",
    "\n",
    "3 <= nums.length <= 3000\n",
    "-105 <= nums[i] <= 105"
   ]
  },
  {
   "cell_type": "code",
   "execution_count": null,
   "metadata": {},
   "outputs": [],
   "source": [
    "from typing import List\n",
    "\n",
    "class Solution:\n",
    "    def threeSum(self, nums: List[int]) -> List[List[int]]:\n",
    "        nums.sort()  # Sort the array\n",
    "        result = []  # To store the unique triplets\n",
    "        n = len(nums)\n",
    "        \n",
    "        for i in range(n - 2):\n",
    "            # Skip duplicates for the first number\n",
    "            if i > 0 and nums[i] == nums[i - 1]:\n",
    "                continue\n",
    "            \n",
    "            # Two-pointer approach to find pairs that sum to the negative of nums[i]\n",
    "            start, end = i + 1, n - 1\n",
    "            while start < end:\n",
    "                total = nums[i] + nums[start] + nums[end]\n",
    "                if total == 0:\n",
    "                    result.append([nums[i], nums[start], nums[end]])\n",
    "                    \n",
    "                    # Skip duplicates for the second number\n",
    "                    while start < end and nums[start] == nums[start + 1]:\n",
    "                        start += 1\n",
    "                    \n",
    "                    # Skip duplicates for the third number\n",
    "                    while start < end and nums[end] == nums[end - 1]:\n",
    "                        end -= 1\n",
    "                    \n",
    "                    # Move both pointers inward\n",
    "                    start += 1\n",
    "                    end -= 1\n",
    "                elif total < 0:\n",
    "                    start += 1\n",
    "                else:\n",
    "                    end -= 1\n",
    "        \n",
    "        return result\n"
   ]
  },
  {
   "cell_type": "markdown",
   "metadata": {},
   "source": [
    "Key Points:\n",
    "- Sorting ensures that we can efficiently skip duplicates and apply the two-pointer approach.\n",
    "- Two-pointer helps find pairs that sum to a specific target in linear time.\n",
    "- Skipping duplicates ensures that no triplet is counted more than once.\n",
    "- This approach has optimal time complexity O(n*2) and works for most typical cases."
   ]
  },
  {
   "cell_type": "markdown",
   "metadata": {},
   "source": []
  }
 ],
 "metadata": {
  "kernelspec": {
   "display_name": "cv",
   "language": "python",
   "name": "python3"
  },
  "language_info": {
   "name": "python",
   "version": "3.10.13"
  }
 },
 "nbformat": 4,
 "nbformat_minor": 2
}
