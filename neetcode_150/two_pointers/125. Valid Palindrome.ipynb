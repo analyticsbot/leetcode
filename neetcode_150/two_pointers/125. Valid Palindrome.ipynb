{
 "cells": [
  {
   "cell_type": "markdown",
   "metadata": {},
   "source": [
    "A phrase is a palindrome if, after converting all uppercase letters into lowercase letters and removing all non-alphanumeric characters, it reads the same forward and backward. Alphanumeric characters include letters and numbers.\n",
    "\n",
    "Given a string s, return true if it is a palindrome, or false otherwise.\n",
    "\n",
    " \n",
    "\n",
    "Example 1:\n",
    "\n",
    "Input: s = \"A man, a plan, a canal: Panama\"\n",
    "Output: true\n",
    "Explanation: \"amanaplanacanalpanama\" is a palindrome.\n",
    "Example 2:\n",
    "\n",
    "Input: s = \"race a car\"\n",
    "Output: false\n",
    "Explanation: \"raceacar\" is not a palindrome.\n",
    "Example 3:\n",
    "\n",
    "Input: s = \" \"\n",
    "Output: true\n",
    "Explanation: s is an empty string \"\" after removing non-alphanumeric characters.\n",
    "Since an empty string reads the same forward and backward, it is a palindrome.\n",
    " \n",
    "\n",
    "Constraints:\n",
    "\n",
    "1 <= s.length <= 2 * 105\n",
    "s consists only of printable ASCII characters."
   ]
  },
  {
   "cell_type": "code",
   "execution_count": 1,
   "metadata": {},
   "outputs": [],
   "source": [
    "class Solution:\n",
    "    def isPalindrome(self, s: str) -> bool:\n",
    "        r = ''\n",
    "        for i in s:\n",
    "            if i.isalnum():\n",
    "                r+=i.lower()\n",
    "        #print (r)\n",
    "        return r==r[::-1]"
   ]
  },
  {
   "cell_type": "markdown",
   "metadata": {},
   "source": [
    "Steps:\n",
    "- Remove Non-Alphanumeric Characters: Ignore spaces, punctuation, and other non-alphanumeric characters.\n",
    "- Convert to Lowercase: This ensures that the comparison is case-insensitive.\n",
    "- Check Palindrome: Compare the string to its reverse. If both are the same, it's a palindrome.\n",
    "\n",
    "Explanation:\n",
    "- i.lower(): Converts each character to lowercase to ensure case-insensitivity.\n",
    "- i.isalnum(): Filters only alphanumeric characters (letters and numbers).\n",
    "- r == r[::-1]: Compares the string with its reverse ([::-1] is Python's slice notation to reverse a string)."
   ]
  },
  {
   "cell_type": "code",
   "execution_count": 2,
   "metadata": {},
   "outputs": [],
   "source": [
    "class Solution:\n",
    "    def isPalindrome(self, s: str) -> bool:\n",
    "        start, end = 0, len(s) - 1\n",
    "        while start < end:\n",
    "            # Skip non-alphanumeric characters from the start\n",
    "            if not s[start].isalnum():\n",
    "                start += 1\n",
    "                continue\n",
    "            \n",
    "            # Skip non-alphanumeric characters from the end\n",
    "            if not s[end].isalnum():\n",
    "                end -= 1\n",
    "                continue\n",
    "\n",
    "            # Compare characters at the start and end (case-insensitive)\n",
    "            if s[start].lower() != s[end].lower():\n",
    "                return False\n",
    "\n",
    "            # Move both pointers inward\n",
    "            start += 1\n",
    "            end -= 1\n",
    "        \n",
    "        return True\n"
   ]
  },
  {
   "cell_type": "markdown",
   "metadata": {},
   "source": [
    "##### Solution Explanation:\n",
    "\n",
    "- **Start and End Pointers**: Two pointers, `start` and `end`, are initialized at the beginning and end of the string.\n",
    "- **Skip Non-Alphanumeric Characters**: If the characters at `start` or `end` are not alphanumeric, the pointers are moved inward.\n",
    "- **Character Comparison**: If both characters at `start` and `end` match (ignoring case), move the pointers inward. If they don't match, return `False`.\n",
    "- **Return**: If the loop completes without mismatches, return `True`.\n",
    "\n",
    "##### Example 1: `\"A man, a plan, a canal: Panama\"`\n",
    "\n",
    "- After skipping non-alphanumeric characters and comparing the remaining characters, the result is:\n",
    "  ```markdown\n",
    "  True\n"
   ]
  },
  {
   "cell_type": "markdown",
   "metadata": {},
   "source": []
  }
 ],
 "metadata": {
  "kernelspec": {
   "display_name": "cv",
   "language": "python",
   "name": "python3"
  },
  "language_info": {
   "codemirror_mode": {
    "name": "ipython",
    "version": 3
   },
   "file_extension": ".py",
   "mimetype": "text/x-python",
   "name": "python",
   "nbconvert_exporter": "python",
   "pygments_lexer": "ipython3",
   "version": "3.10.13"
  }
 },
 "nbformat": 4,
 "nbformat_minor": 2
}
