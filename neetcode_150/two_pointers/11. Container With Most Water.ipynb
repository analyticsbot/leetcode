{
 "cells": [
  {
   "cell_type": "markdown",
   "metadata": {},
   "source": [
    "You are given an integer array height of length n. There are n vertical lines drawn such that the two endpoints of the ith line are (i, 0) and (i, height[i]).\n",
    "\n",
    "Find two lines that together with the x-axis form a container, such that the container contains the most water.\n",
    "\n",
    "Return the maximum amount of water a container can store.\n",
    "\n",
    "Notice that you may not slant the container.\n",
    "\n",
    " \n",
    "\n",
    "Example 1:\n",
    "\n",
    "\n",
    "Input: height = [1,8,6,2,5,4,8,3,7]\n",
    "Output: 49\n",
    "Explanation: The above vertical lines are represented by array [1,8,6,2,5,4,8,3,7]. In this case, the max area of water (blue section) the container can contain is 49.\n",
    "Example 2:\n",
    "\n",
    "Input: height = [1,1]\n",
    "Output: 1\n",
    " \n",
    "\n",
    "Constraints:\n",
    "\n",
    "n == height.length\n",
    "2 <= n <= 105\n",
    "0 <= height[i] <= 104"
   ]
  },
  {
   "cell_type": "code",
   "execution_count": 1,
   "metadata": {},
   "outputs": [],
   "source": [
    "from typing import List\n",
    "class Solution:\n",
    "    def maxArea(self, height: List[int]) -> int:\n",
    "        max_area = 0\n",
    "        start,end = 0, len(height)-1\n",
    "\n",
    "        while start<end:\n",
    "            if height[start]>height[end]:\n",
    "                \n",
    "                max_area = max(max_area, min(height[start], height[end])*(end-start))\n",
    "                end-=1\n",
    "            else:\n",
    "                \n",
    "                max_area = max(max_area, min(height[start], height[end])*(end-start))\n",
    "                start+=1\n",
    "        return max_area\n",
    "\n",
    "\n"
   ]
  },
  {
   "cell_type": "markdown",
   "metadata": {},
   "source": [
    "### Explanation of the Approach:\n",
    "\n",
    "1. **Problem Recap**:\n",
    "   - You are given an array `height` where `height[i]` represents the height of a vertical line at position `i`.\n",
    "   - The goal is to find two lines that, when combined with the x-axis, form a container that holds the maximum amount of water. The area of water held by two lines is calculated as:\n",
    "     $ \\text{Area} = \\text{min}(height[start], height[end]) \\times (end - start)$\n",
    "     where `start` and `end` are the positions of the two lines.\n",
    "\n",
    "2. **Optimal Approach (Two-Pointer Technique)**:\n",
    "   - **Start and End Pointers**: We use two pointers to traverse the list of heights, one starting from the beginning (`start = 0`) and one from the end (`end = len(height) - 1`).\n",
    "   - **Area Calculation**: At each step, we calculate the area formed by the lines at the `start` and `end` positions using the formula above. The area is determined by the shorter of the two lines (since the water cannot rise above the shorter line) and the distance between them.\n",
    "   - **Move Pointers**: To maximize the area, we move the pointer pointing to the shorter line inward, because moving the taller line won't help us increase the area (it will only decrease the width between the lines). This is based on the observation that we should always try to increase the shorter line's height by moving the pointer inward.\n",
    "   - **Repeat**: This process continues until the `start` pointer is no longer less than the `end` pointer, ensuring that all possible pairs of lines are considered.\n",
    "\n",
    "3. **Time and Space Complexity**:\n",
    "   - **Time Complexity**: The time complexity is **O(n)**, where `n` is the length of the input list `height`. This is because each pointer moves at most once through the array, making this solution linear in time.\n",
    "   - **Space Complexity**: The space complexity is **O(1)** because only a few extra variables are used, regardless of the input size.\n"
   ]
  },
  {
   "cell_type": "markdown",
   "metadata": {},
   "source": []
  }
 ],
 "metadata": {
  "kernelspec": {
   "display_name": "cv",
   "language": "python",
   "name": "python3"
  },
  "language_info": {
   "codemirror_mode": {
    "name": "ipython",
    "version": 3
   },
   "file_extension": ".py",
   "mimetype": "text/x-python",
   "name": "python",
   "nbconvert_exporter": "python",
   "pygments_lexer": "ipython3",
   "version": "3.10.13"
  }
 },
 "nbformat": 4,
 "nbformat_minor": 2
}
