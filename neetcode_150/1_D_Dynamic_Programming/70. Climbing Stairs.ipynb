{
 "cells": [
  {
   "cell_type": "markdown",
   "metadata": {},
   "source": [
    "### Problem: Climbing Stairs  \n",
    "**Difficulty**: Easy  \n",
    "**Topics**: Dynamic Programming  \n",
    "**Hint**: Fibonacci sequence-like problem  \n",
    "\n",
    "You are climbing a staircase. It takes `n` steps to reach the top. Each time, you can either climb 1 or 2 steps. Determine how many distinct ways you can climb to the top.\n",
    "\n",
    "#### Example 1:  \n",
    "**Input**:  \n",
    "`n = 2`  \n",
    "**Output**:  \n",
    "`2`  \n",
    "**Explanation**:  \n",
    "There are two ways to climb to the top:  \n",
    "1. 1 step + 1 step  \n",
    "2. 2 steps  \n",
    "\n",
    "#### Example 2:  \n",
    "**Input**:  \n",
    "`n = 3`  \n",
    "**Output**:  \n",
    "`3`  \n",
    "**Explanation**:  \n",
    "There are three ways to climb to the top:  \n",
    "1. 1 step + 1 step + 1 step  \n",
    "2. 1 step + 2 steps  \n",
    "3. 2 steps + 1 step  \n",
    "\n",
    "### Constraints:  \n",
    "- $(1 \\leq n \\leq 45$)\n"
   ]
  },
  {
   "cell_type": "code",
   "execution_count": null,
   "metadata": {},
   "outputs": [],
   "source": [
    "class Solution:\n",
    "    def climbStairs(self, n: int) -> int:\n",
    "        if n == 1:\n",
    "            return 1\n",
    "        if n == 2:\n",
    "            return 2\n",
    "\n",
    "        # Initialize variables for the two previous results\n",
    "        prev1, prev2 = 2, 1\n",
    "\n",
    "        # Compute the result iteratively for steps 3 to n\n",
    "        for _ in range(3, n + 1):\n",
    "            current = prev1 + prev2\n",
    "            prev2 = prev1\n",
    "            prev1 = current\n",
    "\n",
    "        return prev1\n"
   ]
  },
  {
   "cell_type": "code",
   "execution_count": null,
   "metadata": {},
   "outputs": [],
   "source": [
    "class Solution:\n",
    "    def climbStairs(self, n: int) -> int:\n",
    "        if n == 1:\n",
    "            return 1\n",
    "\n",
    "        # Initialize a DP array to store the number of ways to climb each step\n",
    "        dp = [0] * (n + 1)\n",
    "        dp[1] = 1  # 1 way to climb 1 step\n",
    "        dp[2] = 2  # 2 ways to climb 2 steps\n",
    "\n",
    "        # Fill the DP table for steps 3 to n\n",
    "        for i in range(3, n + 1):\n",
    "            dp[i] = dp[i - 1] + dp[i - 2]\n",
    "\n",
    "        return dp[n]\n"
   ]
  }
 ],
 "metadata": {
  "language_info": {
   "name": "python"
  }
 },
 "nbformat": 4,
 "nbformat_minor": 2
}
