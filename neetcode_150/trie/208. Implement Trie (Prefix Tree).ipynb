{
 "cells": [
  {
   "cell_type": "markdown",
   "metadata": {},
   "source": [
    "A trie (pronounced as \"try\") or prefix tree is a tree data structure used to efficiently store and retrieve keys in a dataset of strings. There are various applications of this data structure, such as autocomplete and spellchecker.\n",
    "\n",
    "Implement the Trie class:\n",
    "\n",
    "Trie() Initializes the trie object.\n",
    "void insert(String word) Inserts the string word into the trie.\n",
    "boolean search(String word) Returns true if the string word is in the trie (i.e., was inserted before), and false otherwise.\n",
    "boolean startsWith(String prefix) Returns true if there is a previously inserted string word that has the prefix prefix, and false otherwise.\n",
    " \n",
    "\n",
    "Example 1:\n",
    "\n",
    "Input\n",
    "[\"Trie\", \"insert\", \"search\", \"search\", \"startsWith\", \"insert\", \"search\"]\n",
    "[[], [\"apple\"], [\"apple\"], [\"app\"], [\"app\"], [\"app\"], [\"app\"]]\n",
    "Output\n",
    "[null, null, true, false, true, null, true]\n",
    "\n",
    "Explanation\n",
    "Trie trie = new Trie();\n",
    "trie.insert(\"apple\");\n",
    "trie.search(\"apple\");   // return True\n",
    "trie.search(\"app\");     // return False\n",
    "trie.startsWith(\"app\"); // return True\n",
    "trie.insert(\"app\");\n",
    "trie.search(\"app\");     // return True\n",
    " \n",
    "\n",
    "Constraints:\n",
    "\n",
    "1 <= word.length, prefix.length <= 2000\n",
    "word and prefix consist only of lowercase English letters.\n",
    "At most 3 * 104 calls in total will be made to insert, search, and startsWith.\n"
   ]
  },
  {
   "cell_type": "code",
   "execution_count": null,
   "metadata": {
    "vscode": {
     "languageId": "plaintext"
    }
   },
   "outputs": [],
   "source": [
    "class TrieNode:\n",
    "    def __init__(self):\n",
    "        self.children = {}\n",
    "        self.is_end_of_word = False\n",
    "\n",
    "class Trie:\n",
    "\n",
    "    def __init__(self):\n",
    "        # Initialize the root node of the Trie.\n",
    "        self.root = TrieNode()\n",
    "\n",
    "    def insert(self, word: str) -> None:\n",
    "        # Insert a word into the Trie.\n",
    "        node = self.root\n",
    "        for char in word:\n",
    "            if char not in node.children:\n",
    "                node.children[char] = TrieNode()\n",
    "            node = node.children[char]\n",
    "        node.is_end_of_word = True\n",
    "\n",
    "    def search(self, word: str) -> bool:\n",
    "        # Search for a word in the Trie.\n",
    "        node = self.root\n",
    "        for char in word:\n",
    "            if char not in node.children:\n",
    "                return False\n",
    "            node = node.children[char]\n",
    "        return node.is_end_of_word\n",
    "\n",
    "    def startsWith(self, prefix: str) -> bool:\n",
    "        # Check if there is any word in the Trie that starts with the given prefix.\n",
    "        node = self.root\n",
    "        for char in prefix:\n",
    "            if char not in node.children:\n",
    "                return False\n",
    "            node = node.children[char]\n",
    "        return True\n",
    "\n",
    "# Your Trie object will be instantiated and called as such:\n",
    "# obj = Trie()\n",
    "# obj.insert(word)\n",
    "# param_2 = obj.search(word)\n",
    "# param_3 = obj.startsWith(prefix)\n"
   ]
  },
  {
   "cell_type": "markdown",
   "metadata": {},
   "source": [
    "https://www.youtube.com/watch?v=oobqoCJlHA0"
   ]
  }
 ],
 "metadata": {
  "language_info": {
   "name": "python"
  }
 },
 "nbformat": 4,
 "nbformat_minor": 2
}
