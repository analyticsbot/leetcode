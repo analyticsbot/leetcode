{
 "cells": [
  {
   "cell_type": "markdown",
   "metadata": {},
   "source": [
    "Koko loves to eat bananas. There are n piles of bananas, the ith pile has piles[i] bananas. The guards have gone and will come back in h hours.\n",
    "\n",
    "Koko can decide her bananas-per-hour eating speed of k. Each hour, she chooses some pile of bananas and eats k bananas from that pile. If the pile has less than k bananas, she eats all of them instead and will not eat any more bananas during this hour.\n",
    "\n",
    "Koko likes to eat slowly but still wants to finish eating all the bananas before the guards return.\n",
    "\n",
    "Return the minimum integer k such that she can eat all the bananas within h hours.\n",
    "\n",
    " \n",
    "\n",
    "Example 1:\n",
    "\n",
    "Input: piles = [3,6,7,11], h = 8\n",
    "Output: 4\n",
    "Example 2:\n",
    "\n",
    "Input: piles = [30,11,23,4,20], h = 5\n",
    "Output: 30\n",
    "Example 3:\n",
    "\n",
    "Input: piles = [30,11,23,4,20], h = 6\n",
    "Output: 23\n",
    " \n",
    "\n",
    "Constraints:\n",
    "\n",
    "1 <= piles.length <= 104\n",
    "piles.length <= h <= 109\n",
    "1 <= piles[i] <= 109"
   ]
  },
  {
   "cell_type": "code",
   "execution_count": 1,
   "metadata": {},
   "outputs": [],
   "source": [
    "from typing import List\n",
    "import math\n",
    "\n",
    "class Solution:\n",
    "    def minEatingSpeed(self, piles: List[int], h: int) -> int:\n",
    "        # Define the search range for k\n",
    "        left, right = 1, max(piles)\n",
    "        \n",
    "        # Helper function to calculate the hours needed at a given eating speed\n",
    "        def canFinish(k):\n",
    "            hours = 0\n",
    "            for pile in piles:\n",
    "                hours += math.ceil(pile / k)\n",
    "            return hours <= h\n",
    "        \n",
    "        # Perform binary search\n",
    "        while left < right:\n",
    "            mid = (left + right) // 2\n",
    "            if canFinish(mid):\n",
    "                right = mid  # Try a smaller speed\n",
    "            else:\n",
    "                left = mid + 1  # Increase the speed\n",
    "                \n",
    "        return left\n"
   ]
  },
  {
   "cell_type": "markdown",
   "metadata": {},
   "source": [
    "#### Explanation\n",
    "\n",
    "#### Binary Search Setup\n",
    "- Start with `left` as `1` and `right` as `max(piles)`.\n",
    "\n",
    "#### Midpoint Calculation\n",
    "- Calculate `mid` as the average of `left` and `right`.\n",
    "\n",
    "#### Check Feasibility\n",
    "- Use `canFinish(mid)` to check if Koko can finish all bananas at speed `mid` in \\( h \\) hours.\n",
    "  - If `canFinish(mid)` is `True`, search the left half by setting `right = mid` to try a smaller \\( k \\).\n",
    "  - If `canFinish(mid)` is `False`, increase `left` to `mid + 1` to try a larger \\( k \\).\n",
    "\n",
    "#### Return Result\n",
    "- When `left` meets `right`, it represents the smallest \\( k \\) at which Koko can finish within \\( h \\) hours.\n",
    "\n",
    "#### Complexity\n",
    "\n",
    "- **Time Complexity**: \\( O(n \\cdot \\log(\\text{max}(piles))) \\), where \\( n \\) is the number of piles. This is efficient due to binary search.\n",
    "- **Space Complexity**: \\( O(1) \\), as we use constant extra space.\n"
   ]
  },
  {
   "cell_type": "markdown",
   "metadata": {},
   "source": []
  }
 ],
 "metadata": {
  "kernelspec": {
   "display_name": "cv",
   "language": "python",
   "name": "python3"
  },
  "language_info": {
   "codemirror_mode": {
    "name": "ipython",
    "version": 3
   },
   "file_extension": ".py",
   "mimetype": "text/x-python",
   "name": "python",
   "nbconvert_exporter": "python",
   "pygments_lexer": "ipython3",
   "version": "3.10.13"
  }
 },
 "nbformat": 4,
 "nbformat_minor": 2
}
