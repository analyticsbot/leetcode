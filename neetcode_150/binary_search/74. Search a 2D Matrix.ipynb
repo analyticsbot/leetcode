{
 "cells": [
  {
   "cell_type": "markdown",
   "metadata": {
    "vscode": {
     "languageId": "plaintext"
    }
   },
   "source": [
    "You are given an m x n integer matrix matrix with the following two properties:\n",
    "\n",
    "Each row is sorted in non-decreasing order.\n",
    "The first integer of each row is greater than the last integer of the previous row.\n",
    "Given an integer target, return true if target is in matrix or false otherwise.\n",
    "\n",
    "You must write a solution in O(log(m * n)) time complexity.\n",
    "\n",
    " \n",
    "\n",
    "Example 1:\n",
    "\n",
    "\n",
    "Input: matrix = [[1,3,5,7],[10,11,16,20],[23,30,34,60]], target = 3\n",
    "Output: true\n",
    "Example 2:\n",
    "\n",
    "\n",
    "Input: matrix = [[1,3,5,7],[10,11,16,20],[23,30,34,60]], target = 13\n",
    "Output: false\n",
    " \n",
    "\n",
    "Constraints:\n",
    "\n",
    "m == matrix.length\n",
    "n == matrix[i].length\n",
    "1 <= m, n <= 100\n",
    "-104 <= matrix[i][j], target <= 104"
   ]
  },
  {
   "cell_type": "code",
   "execution_count": 1,
   "metadata": {},
   "outputs": [],
   "source": [
    "from typing import List\n",
    "\n",
    "class Solution:\n",
    "    def searchMatrix(self, matrix: List[List[int]], target: int) -> bool:\n",
    "        if not matrix or not matrix[0]:\n",
    "            return False\n",
    "\n",
    "        m, n = len(matrix), len(matrix[0])\n",
    "        left, right = 0, m * n - 1\n",
    "\n",
    "        while left <= right:\n",
    "            mid = (left + right) // 2\n",
    "            # Convert mid index to 2D matrix indices\n",
    "            mid_value = matrix[mid // n][mid % n]\n",
    "            \n",
    "            if mid_value == target:\n",
    "                return True\n",
    "            elif mid_value < target:\n",
    "                left = mid + 1\n",
    "            else:\n",
    "                right = mid - 1\n",
    "\n",
    "        return False"
   ]
  },
  {
   "cell_type": "markdown",
   "metadata": {},
   "source": [
    "#### Explanation\n",
    "\n",
    "#### Binary Search Setup\n",
    "- We initialize `left` and `right` to be the indices of the \"flattened\" matrix, ranging from `0` to `m * n - 1`.\n",
    "\n",
    "#### Convert 1D Index to 2D Coordinates\n",
    "- For a given `mid`, the row index is `mid // n`, and the column index is `mid % n`.\n",
    "\n",
    "#### Binary Search\n",
    "- If `mid_value` matches `target`, return `True`.\n",
    "- If `mid_value` is less than `target`, adjust `left` to `mid + 1`.\n",
    "- If `mid_value` is greater than `target`, adjust `right` to `mid - 1`.\n",
    "\n",
    "#### Return False if Not Found\n",
    "- If the loop completes without finding the target, return `False`.\n",
    "\n",
    "#### Time Complexity\n",
    "The time complexity of this optimized solution is **O(log(m * n))**, making it much faster than the brute-force approach.\n"
   ]
  },
  {
   "cell_type": "markdown",
   "metadata": {},
   "source": [
    "To search for a target in a 3D matrix efficiently, we can still use a binary search approach by treating the 3D matrix as a flattened 1D array. For a 3D matrix matrix with dimensions [x][y][z], the index transformations will adjust accordingly.\n",
    "\n"
   ]
  },
  {
   "cell_type": "code",
   "execution_count": 2,
   "metadata": {},
   "outputs": [],
   "source": [
    "from typing import List\n",
    "\n",
    "class Solution:\n",
    "    def searchMatrix3D(self, matrix: List[List[List[int]]], target: int) -> bool:\n",
    "        if not matrix or not matrix[0] or not matrix[0][0]:\n",
    "            return False\n",
    "\n",
    "        x, y, z = len(matrix), len(matrix[0]), len(matrix[0][0])\n",
    "        left, right = 0, x * y * z - 1\n",
    "\n",
    "        while left <= right:\n",
    "            mid = (left + right) // 2\n",
    "            \n",
    "            # Convert 1D index to 3D coordinates\n",
    "            mid_value = matrix[mid // (y * z)][(mid % (y * z)) // z][(mid % (y * z)) % z]\n",
    "            \n",
    "            if mid_value == target:\n",
    "                return True\n",
    "            elif mid_value < target:\n",
    "                left = mid + 1\n",
    "            else:\n",
    "                right = mid - 1\n",
    "\n",
    "        return False\n"
   ]
  },
  {
   "cell_type": "markdown",
   "metadata": {},
   "source": [
    "#### Explanation\n",
    "\n",
    "#### Binary Search Setup\n",
    "- We initialize `left` and `right` to be the indices of the \"flattened\" 3D matrix, ranging from `0` to `x * y * z - 1`.\n",
    "\n",
    "#### Convert 1D Index to 3D Coordinates\n",
    "- For a given `mid`, the indices are calculated as follows:\n",
    "  - `layer = mid // (y * z)` gives the 3D \"layer\" or the depth index.\n",
    "  - `row = (mid % (y * z)) // z` gives the row within that layer.\n",
    "  - `col = (mid % (y * z)) % z` gives the column within that row.\n",
    "\n",
    "#### Binary Search\n",
    "- If `mid_value` equals `target`, return `True`.\n",
    "- If `mid_value` is less than `target`, search the right half by setting `left = mid + 1`.\n",
    "- If `mid_value` is greater than `target`, search the left half by setting `right = mid - 1`.\n",
    "\n",
    "#### Return False if Not Found\n",
    "- If the loop completes without finding the target, return `False`.\n",
    "\n",
    "#### Time Complexity\n",
    "The time complexity is **O(log(x * y * z))**, as it still follows the binary search logic, which is efficient for a sorted 3D matrix.\n"
   ]
  },
  {
   "cell_type": "markdown",
   "metadata": {},
   "source": []
  }
 ],
 "metadata": {
  "kernelspec": {
   "display_name": "cv",
   "language": "python",
   "name": "python3"
  },
  "language_info": {
   "codemirror_mode": {
    "name": "ipython",
    "version": 3
   },
   "file_extension": ".py",
   "mimetype": "text/x-python",
   "name": "python",
   "nbconvert_exporter": "python",
   "pygments_lexer": "ipython3",
   "version": "3.10.13"
  }
 },
 "nbformat": 4,
 "nbformat_minor": 2
}
