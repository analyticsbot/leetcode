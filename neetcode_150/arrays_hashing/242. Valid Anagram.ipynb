{
 "cells": [
  {
   "cell_type": "markdown",
   "metadata": {},
   "source": [
    "242. Valid Anagram\n",
    "Solved\n",
    "Easy\n",
    "Topics\n",
    "Companies\n",
    "Given two strings s and t, return true if t is an \n",
    "anagram\n",
    " of s, and false otherwise.\n",
    "\n",
    " \n",
    "\n",
    "Example 1:\n",
    "\n",
    "Input: s = \"anagram\", t = \"nagaram\"\n",
    "\n",
    "Output: true\n",
    "\n",
    "Example 2:\n",
    "\n",
    "Input: s = \"rat\", t = \"car\"\n",
    "\n",
    "Output: false\n",
    "\n",
    " \n",
    "\n",
    "Constraints:\n",
    "\n",
    "1 <= s.length, t.length <= 5 * 104\n",
    "s and t consist of lowercase English letters.\n",
    " \n",
    "\n",
    "Follow up: What if the inputs contain Unicode characters? How would you adapt your solution to such a case?"
   ]
  },
  {
   "cell_type": "code",
   "execution_count": 1,
   "metadata": {},
   "outputs": [],
   "source": [
    "from collections import defaultdict\n",
    "class Solution:\n",
    "    def isAnagram(self, s: str, t: str) -> bool:\n",
    "        if len(s)!=len(t):\n",
    "            return False\n",
    "        \n",
    "        hash_set1 = defaultdict(int)\n",
    "        hash_set2 = defaultdict(int)\n",
    "\n",
    "        for i in s:\n",
    "            hash_set1[i]+=1\n",
    "        for i in t:\n",
    "            hash_set2[i]+=1\n",
    "        return hash_set1==hash_set2"
   ]
  },
  {
   "cell_type": "markdown",
   "metadata": {},
   "source": [
    "## Explanation of Key Parts\n",
    "\n",
    "### Length Check\n",
    "- If `s` and `t` have different lengths, they cannot be anagrams, so the function immediately returns `False`.\n",
    "\n",
    "### Counting Characters\n",
    "- Two `defaultdict(int)` objects are created to count the occurrences of each character in both strings.\n",
    "- The first loop iterates over the characters in `s` and increments the count in `hash_set1`.\n",
    "- The second loop does the same for `t` and `hash_set2`.\n",
    "\n",
    "### Comparison\n",
    "- Finally, the two dictionaries are compared. If they are equal, it means `s` and `t` have the same characters with the same frequencies, confirming that they are anagrams.\n",
    "\n",
    "## Time and Space Complexity\n",
    "\n",
    "### Time Complexity\n",
    "- \\( O(n) \\), where \\( n \\) is the length of the strings. The function iterates over each string once to count the characters.\n",
    "\n",
    "### Space Complexity\n",
    "- \\( O(1) \\) in terms of the character set size. The space used for the dictionaries depends on the number of unique characters (which is limited in the case of lowercase English letters). In the worst case (for ASCII characters), it can be considered \\( O(1) \\) since the character set size is fixed.\n"
   ]
  },
  {
   "cell_type": "code",
   "execution_count": 2,
   "metadata": {},
   "outputs": [],
   "source": [
    "from collections import Counter\n",
    "\n",
    "class Solution:\n",
    "    def isAnagram(self, s: str, t: str) -> bool:\n",
    "        return Counter(s) == Counter(t)\n"
   ]
  },
  {
   "cell_type": "markdown",
   "metadata": {},
   "source": [
    "### Explanation of the Another Solution\n",
    "- **Counting Characters**: The `Counter` class from the `collections` module creates a frequency dictionary for each string in one line.\n",
    "- **Comparison**: The two `Counter` objects are then directly compared. If they are equal, it means the strings have the same characters in the same frequencies.\n",
    "\n",
    "### Time and Space Complexity\n",
    "- **Time Complexity**: \n",
    "  - \\( O(n) \\), where \\( n \\) is the length of the strings. This is because the `Counter` must iterate through each string to count characters.\n",
    "  \n",
    "- **Space Complexity**: \n",
    "  - \\( O(k) \\), where \\( k \\) is the number of unique characters. The space used depends on the number of unique characters in the strings. However, since we're only dealing with a limited character set (like lowercase English letters), this can be considered \\( O(1) \\) in terms of space as well.\n",
    "\n",
    "### Benefits of This New Approach\n",
    "- **Conciseness**: The solution is more straightforward and easier to read since it avoids the explicit creation and manipulation of dictionaries.\n",
    "- **Efficiency**: While both methods have similar time complexity, using `Counter` can be more efficient in terms of implementation and maintenance.\n"
   ]
  },
  {
   "cell_type": "markdown",
   "metadata": {},
   "source": []
  }
 ],
 "metadata": {
  "kernelspec": {
   "display_name": "cv",
   "language": "python",
   "name": "python3"
  },
  "language_info": {
   "codemirror_mode": {
    "name": "ipython",
    "version": 3
   },
   "file_extension": ".py",
   "mimetype": "text/x-python",
   "name": "python",
   "nbconvert_exporter": "python",
   "pygments_lexer": "ipython3",
   "version": "3.10.13"
  }
 },
 "nbformat": 4,
 "nbformat_minor": 2
}
