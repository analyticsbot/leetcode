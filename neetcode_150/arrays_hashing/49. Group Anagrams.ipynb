{
 "cells": [
  {
   "cell_type": "markdown",
   "metadata": {},
   "source": [
    "49. Group Anagrams\n",
    "Medium\n",
    "Topics\n",
    "Companies\n",
    "Given an array of strings strs, group the \n",
    "anagrams\n",
    " together. You can return the answer in any order.\n",
    "\n",
    " \n",
    "\n",
    "Example 1:\n",
    "\n",
    "Input: strs = [\"eat\",\"tea\",\"tan\",\"ate\",\"nat\",\"bat\"]\n",
    "\n",
    "Output: [[\"bat\"],[\"nat\",\"tan\"],[\"ate\",\"eat\",\"tea\"]]\n",
    "\n",
    "Explanation:\n",
    "\n",
    "There is no string in strs that can be rearranged to form \"bat\".\n",
    "The strings \"nat\" and \"tan\" are anagrams as they can be rearranged to form each other.\n",
    "The strings \"ate\", \"eat\", and \"tea\" are anagrams as they can be rearranged to form each other.\n",
    "Example 2:\n",
    "\n",
    "Input: strs = [\"\"]\n",
    "\n",
    "Output: [[\"\"]]\n",
    "\n",
    "Example 3:\n",
    "\n",
    "Input: strs = [\"a\"]\n",
    "\n",
    "Output: [[\"a\"]]\n",
    "\n",
    " \n",
    "\n",
    "Constraints:\n",
    "\n",
    "1 <= strs.length <= 104\n",
    "0 <= strs[i].length <= 100\n"
   ]
  },
  {
   "cell_type": "code",
   "execution_count": 1,
   "metadata": {},
   "outputs": [],
   "source": [
    "from collections import Counter, defaultdict\n",
    "from typing import List\n",
    "class Solution:\n",
    "    def groupAnagrams(self, strs: List[str]) -> List[List[str]]:\n",
    "        hash_set = defaultdict(list)\n",
    "        \n",
    "        for st in strs:\n",
    "            # Use frozenset of the Counter items as the key\n",
    "            key = frozenset(Counter(st).items())\n",
    "            hash_set[key].append(st)\n",
    "        \n",
    "        # Return all values from the hash_set\n",
    "        return list(hash_set.values())"
   ]
  },
  {
   "cell_type": "markdown",
   "metadata": {},
   "source": [
    "## Analysis of Time and Space Complexity\n",
    "\n",
    "### How It Works\n",
    "1. **Counting Characters**: For each string in the input list `strs`, the `Counter` class counts the frequency of each character.\n",
    "2. **Creating Keys**: The items of the `Counter` are converted into a `frozenset`, which serves as a hashable key that represents the character count of the string. This allows different strings with the same character counts (anagrams) to be grouped together.\n",
    "3. **Grouping Anagrams**: Each string is appended to a list in a dictionary where the keys are the `frozensets`. As a result, all anagrams will be stored in the same list under the same key.\n",
    "\n",
    "### Time Complexity\n",
    "- **O(n * k)**, where:\n",
    "  - **n** is the number of strings in `strs`.\n",
    "  - **k** is the maximum length of a string in `strs`.\n",
    "  \n",
    "The reason is that for each string, we perform a linear scan to count the characters (O(k)), and this operation is done for all n strings.\n",
    "\n",
    "### Space Complexity\n",
    "- **O(n * k)** in the worst case:\n",
    "  - The space is required to store the lists of grouped anagrams and the `Counter` objects.\n",
    "  - In the case where all strings are anagrams of each other, we would store all of them in a single list.\n"
   ]
  },
  {
   "cell_type": "markdown",
   "metadata": {},
   "source": []
  },
  {
   "cell_type": "code",
   "execution_count": null,
   "metadata": {},
   "outputs": [],
   "source": [
    "from collections import defaultdict\n",
    "\n",
    "class Solution:\n",
    "    def groupAnagrams(self, strs: List[str]) -> List[List[str]]:\n",
    "        hash_set = defaultdict(list)\n",
    "        for st in strs:\n",
    "            # Sort the string and use it as a key\n",
    "            key = ''.join(sorted(st))\n",
    "            hash_set[key].append(st)\n",
    "\n",
    "        return list(hash_set.values())\n"
   ]
  },
  {
   "cell_type": "markdown",
   "metadata": {},
   "source": [
    "## How This Works\n",
    "- **Sorting Strings**: Each string is sorted, which ensures that all anagrams will have the same sorted representation. For example, both \"eat\" and \"tea\" will be transformed into \"aet\".\n",
    "- **Grouping**: Each sorted string serves as a key in the `hash_set` dictionary, where the value is a list of strings that share that key (i.e., they are anagrams).\n",
    "\n",
    "## Time and Space Complexity\n",
    "- **Time Complexity**: \n",
    "  - \\( O(n \\times k \\log k) \\), where:\n",
    "    - \\( n \\) is the number of strings in `strs`.\n",
    "    - \\( k \\) is the maximum length of a string in `strs`.\n",
    "  The sorting operation dominates the time complexity because we sort each string individually.\n",
    "\n",
    "- **Space Complexity**:\n",
    "  - \\( O(n \\times k) \\) for storing the grouped anagrams and the intermediate sorted strings.\n"
   ]
  },
  {
   "cell_type": "markdown",
   "metadata": {},
   "source": []
  }
 ],
 "metadata": {
  "kernelspec": {
   "display_name": "cv",
   "language": "python",
   "name": "python3"
  },
  "language_info": {
   "codemirror_mode": {
    "name": "ipython",
    "version": 3
   },
   "file_extension": ".py",
   "mimetype": "text/x-python",
   "name": "python",
   "nbconvert_exporter": "python",
   "pygments_lexer": "ipython3",
   "version": "3.10.13"
  }
 },
 "nbformat": 4,
 "nbformat_minor": 2
}
