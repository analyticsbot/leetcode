{
 "cells": [
  {
   "cell_type": "markdown",
   "metadata": {},
   "source": [
    "271. Encode and Decode Strings\n",
    "Attempted\n",
    "Medium\n",
    "Topics\n",
    "Companies\n",
    "Design an algorithm to encode a list of strings to a string. The encoded string is then sent over the network and is decoded back to the original list of strings.\n",
    "\n",
    "Machine 1 (sender) has the function:\n",
    "\n",
    "string encode(vector<string> strs) {\n",
    "  // ... your code\n",
    "  return encoded_string;\n",
    "}\n",
    "Machine 2 (receiver) has the function:\n",
    "vector<string> decode(string s) {\n",
    "  //... your code\n",
    "  return strs;\n",
    "}\n",
    "So Machine 1 does:\n",
    "\n",
    "string encoded_string = encode(strs);\n",
    "and Machine 2 does:\n",
    "\n",
    "vector<string> strs2 = decode(encoded_string);\n",
    "strs2 in Machine 2 should be the same as strs in Machine 1.\n",
    "\n",
    "Implement the encode and decode methods.\n",
    "\n",
    "You are not allowed to solve the problem using any serialize methods (such as eval)."
   ]
  },
  {
   "cell_type": "code",
   "execution_count": 5,
   "metadata": {},
   "outputs": [
    {
     "name": "stdout",
     "output_type": "stream",
     "text": [
      "25-Hello-Hello 33Hello Hello23-World World World-World\n"
     ]
    },
    {
     "data": {
      "text/plain": [
       "['Hello-Hello 33Hello Hello', 'World World World-World']"
      ]
     },
     "execution_count": 5,
     "metadata": {},
     "output_type": "execute_result"
    }
   ],
   "source": [
    "class Codec:\n",
    "    def encode(self, strs):\n",
    "        # Use list comprehension and join for efficient string operations\n",
    "        print (''.join(f'{len(s)}-{s}' for s in strs))\n",
    "        return ''.join(f'{len(s)}-{s}' for s in strs)\n",
    "\n",
    "    def decode(self, s):\n",
    "        strs = []\n",
    "        i = 0\n",
    "        while i < len(s):\n",
    "            # Find the next colon\n",
    "            j = s.find('-', i)\n",
    "            # Get the length of the next string\n",
    "            length = int(s[i:j])\n",
    "            # Extract the string\n",
    "            i = j + 1\n",
    "            strs.append(s[i:i + length])\n",
    "            # Move to the next part of the string\n",
    "            i += length\n",
    "        return strs\n",
    "        \n",
    "\n",
    "\n",
    "# Your Codec object will be instantiated and called as such:\n",
    "codec = Codec()\n",
    "strs = [\"Hello-Hello 33Hello Hello\",\"World World World-World\"]\n",
    "\n",
    "codec.decode(codec.encode(strs))"
   ]
  },
  {
   "cell_type": "code",
   "execution_count": null,
   "metadata": {},
   "outputs": [],
   "source": []
  }
 ],
 "metadata": {
  "kernelspec": {
   "display_name": "cv",
   "language": "python",
   "name": "python3"
  },
  "language_info": {
   "codemirror_mode": {
    "name": "ipython",
    "version": 3
   },
   "file_extension": ".py",
   "mimetype": "text/x-python",
   "name": "python",
   "nbconvert_exporter": "python",
   "pygments_lexer": "ipython3",
   "version": "3.10.13"
  }
 },
 "nbformat": 4,
 "nbformat_minor": 2
}
