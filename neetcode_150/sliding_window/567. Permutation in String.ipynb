{
 "cells": [
  {
   "cell_type": "markdown",
   "metadata": {},
   "source": [
    "Given two strings s1 and s2, return true if s2 contains a \n",
    "permutation\n",
    " of s1, or false otherwise.\n",
    "\n",
    "In other words, return true if one of s1's permutations is the substring of s2.\n",
    "\n",
    " \n",
    "\n",
    "Example 1:\n",
    "\n",
    "Input: s1 = \"ab\", s2 = \"eidbaooo\"\n",
    "Output: true\n",
    "Explanation: s2 contains one permutation of s1 (\"ba\").\n",
    "Example 2:\n",
    "\n",
    "Input: s1 = \"ab\", s2 = \"eidboaoo\"\n",
    "Output: false\n",
    " \n",
    "\n",
    "Constraints:\n",
    "\n",
    "1 <= s1.length, s2.length <= 104\n",
    "s1 and s2 consist of lowercase English letters."
   ]
  },
  {
   "cell_type": "code",
   "execution_count": null,
   "metadata": {},
   "outputs": [],
   "source": [
    "class Solution:\n",
    "    def checkInclusion(self, s1: str, s2: str) -> bool:\n",
    "        if len(s1) > len(s2):\n",
    "            return False\n",
    "        \n",
    "        # Initialize character counts for s1 and a sliding window\n",
    "        s1_count = [0] * 26\n",
    "        s2_count = [0] * 26\n",
    "        \n",
    "        for char in s1:\n",
    "            s1_count[ord(char) - ord('a')] += 1\n",
    "        \n",
    "        # Start with the first window of size len(s1)\n",
    "        for i in range(len(s1)):\n",
    "            s2_count[ord(s2[i]) - ord('a')] += 1\n",
    "        \n",
    "        # Compare the initial window\n",
    "        if s1_count == s2_count:\n",
    "            return True\n",
    "        \n",
    "        # Slide the window over the rest of s2\n",
    "        for i in range(len(s1), len(s2)):\n",
    "            # Add the new character to the window\n",
    "            s2_count[ord(s2[i]) - ord('a')] += 1\n",
    "            # Remove the leftmost character of the previous window\n",
    "            s2_count[ord(s2[i - len(s1)]) - ord('a')] -= 1\n",
    "            \n",
    "            # Compare counts for the current window\n",
    "            if s1_count == s2_count:\n",
    "                return True\n",
    "        \n",
    "        return False\n"
   ]
  },
  {
   "cell_type": "markdown",
   "metadata": {},
   "source": [
    "##### Explanation:\n",
    "\n",
    "##### Initialization:\n",
    "- Create frequency arrays (`s1_count` and `s2_count`) of size 26 to count occurrences of each character (assuming only lowercase English letters).\n",
    "- Populate `s1_count` with the character counts of `s1`.\n",
    "\n",
    "##### Sliding Window:\n",
    "1. Start with the first `len(s1)` characters of `s2` to create the initial window.\n",
    "2. Compare the character counts in `s1_count` and `s2_count`. If they match, return `True`.\n",
    "\n",
    "##### Slide the Window:\n",
    "1. For every new character in `s2`, update the window:\n",
    "   - Add the count of the new character.\n",
    "   - Remove the count of the character that’s no longer in the window.\n",
    "2. Compare the updated `s2_count` with `s1_count`. If they match, return `True`.\n",
    "\n",
    "##### End of Iteration:\n",
    "- If no match is found after iterating through `s2`, return `False`.\n",
    "\n",
    "##### Complexity:\n",
    "\n",
    "- **Time Complexity:** \\(O(n)\\), where \\(n\\) is the length of `s2`. Both the initialization and sliding window require \\(O(n)\\) operations.\n",
    "- **Space Complexity:** \\(O(1)\\), as the frequency arrays are fixed at size 26."
   ]
  },
  {
   "cell_type": "markdown",
   "metadata": {},
   "source": []
  }
 ],
 "metadata": {
  "kernelspec": {
   "display_name": "cv",
   "language": "python",
   "name": "python3"
  },
  "language_info": {
   "name": "python",
   "version": "3.10.13"
  }
 },
 "nbformat": 4,
 "nbformat_minor": 2
}
