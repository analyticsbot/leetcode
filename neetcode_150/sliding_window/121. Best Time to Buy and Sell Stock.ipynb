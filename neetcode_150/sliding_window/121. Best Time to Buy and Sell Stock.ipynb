{
 "cells": [
  {
   "cell_type": "markdown",
   "metadata": {},
   "source": [
    "You are given an array prices where prices[i] is the price of a given stock on the ith day.\n",
    "\n",
    "You want to maximize your profit by choosing a single day to buy one stock and choosing a different day in the future to sell that stock.\n",
    "\n",
    "Return the maximum profit you can achieve from this transaction. If you cannot achieve any profit, return 0.\n",
    "\n",
    " \n",
    "\n",
    "Example 1:\n",
    "\n",
    "Input: prices = [7,1,5,3,6,4]\n",
    "Output: 5\n",
    "Explanation: Buy on day 2 (price = 1) and sell on day 5 (price = 6), profit = 6-1 = 5.\n",
    "Note that buying on day 2 and selling on day 1 is not allowed because you must buy before you sell.\n",
    "Example 2:\n",
    "\n",
    "Input: prices = [7,6,4,3,1]\n",
    "Output: 0\n",
    "Explanation: In this case, no transactions are done and the max profit = 0.\n",
    " \n",
    "\n",
    "Constraints:\n",
    "\n",
    "1 <= prices.length <= 105\n",
    "0 <= prices[i] <= 104"
   ]
  },
  {
   "cell_type": "code",
   "execution_count": 1,
   "metadata": {},
   "outputs": [],
   "source": [
    "from typing import List\n",
    "class Solution:\n",
    "    def maxProfit(self, prices: List[int]) -> int:\n",
    "        if not prices:\n",
    "            return 0\n",
    "        \n",
    "        # Initialize variables to track the minimum price and maximum profit\n",
    "        min_price = float('inf')\n",
    "        max_profit = 0\n",
    "        \n",
    "        for price in prices:\n",
    "            # Update the minimum price seen so far\n",
    "            min_price = min(min_price, price)\n",
    "            # Calculate the profit if we sold at the current price\n",
    "            current_profit = price - min_price\n",
    "            # Update the maximum profit\n",
    "            max_profit = max(max_profit, current_profit)\n",
    "        \n",
    "        return max_profit\n"
   ]
  },
  {
   "cell_type": "markdown",
   "metadata": {},
   "source": [
    "##### Explanation\n",
    "\n",
    "###### Initialization:\n",
    "- **`min_price`**: Tracks the smallest price seen so far.\n",
    "- **`max_profit`**: Tracks the maximum profit that can be achieved.\n",
    "\n",
    "###### Iteration:\n",
    "- For each price in the list:\n",
    "  - Update `min_price` to the smaller value between the current `min_price` and the current price.\n",
    "  - Calculate the potential profit if the stock were sold at the current price.\n",
    "  - Update `max_profit` to the larger value between the current `max_profit` and the potential profit.\n",
    "\n",
    "###### Result:\n",
    "- After iterating through all prices, `max_profit` contains the maximum possible profit.\n",
    "\n",
    "\n",
    "\n",
    "##### Example\n",
    "\n",
    "**Input**:  \n",
    "`prices = [7, 1, 5, 3, 6, 4]`\n",
    "\n",
    "**Execution**:\n",
    "- Day 1: `min_price = 7`, `max_profit = 0`\n",
    "- Day 2: `min_price = 1`, `max_profit = 0`\n",
    "- Day 3: `min_price = 1`, `max_profit = 4` (sell at 5, buy at 1)\n",
    "- Day 4: `min_price = 1`, `max_profit = 4`\n",
    "- Day 5: `min_price = 1`, `max_profit = 5` (sell at 6, buy at 1)\n",
    "- Day 6: `min_price = 1`, `max_profit = 5`\n",
    "\n",
    "**Output**:  \n",
    "`5`\n",
    "\n",
    "\n",
    "\n",
    "##### Complexity\n",
    "\n",
    "- **Time Complexity**: \\( O(n) \\)  \n",
    "  Single traversal of the prices array.\n",
    "\n",
    "- **Space Complexity**: \\( O(1) \\)  \n",
    "  No additional space is used.\n"
   ]
  },
  {
   "cell_type": "markdown",
   "metadata": {},
   "source": []
  }
 ],
 "metadata": {
  "kernelspec": {
   "display_name": "cv",
   "language": "python",
   "name": "python3"
  },
  "language_info": {
   "codemirror_mode": {
    "name": "ipython",
    "version": 3
   },
   "file_extension": ".py",
   "mimetype": "text/x-python",
   "name": "python",
   "nbconvert_exporter": "python",
   "pygments_lexer": "ipython3",
   "version": "3.10.13"
  }
 },
 "nbformat": 4,
 "nbformat_minor": 2
}
