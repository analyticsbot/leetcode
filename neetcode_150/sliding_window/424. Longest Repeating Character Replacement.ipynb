{
 "cells": [
  {
   "cell_type": "markdown",
   "metadata": {},
   "source": [
    "You are given a string s and an integer k. You can choose any character of the string and change it to any other uppercase English character. You can perform this operation at most k times.\n",
    "\n",
    "Return the length of the longest substring containing the same letter you can get after performing the above operations.\n",
    "\n",
    " \n",
    "\n",
    "Example 1:\n",
    "\n",
    "Input: s = \"ABAB\", k = 2\n",
    "Output: 4\n",
    "Explanation: Replace the two 'A's with two 'B's or vice versa.\n",
    "Example 2:\n",
    "\n",
    "Input: s = \"AABABBA\", k = 1\n",
    "Output: 4\n",
    "Explanation: Replace the one 'A' in the middle with 'B' and form \"AABBBBA\".\n",
    "The substring \"BBBB\" has the longest repeating letters, which is 4.\n",
    "There may exists other ways to achieve this answer too.\n",
    " \n",
    "\n",
    "Constraints:\n",
    "\n",
    "1 <= s.length <= 105\n",
    "s consists of only uppercase English letters.\n",
    "0 <= k <= s.length"
   ]
  },
  {
   "cell_type": "code",
   "execution_count": null,
   "metadata": {},
   "outputs": [],
   "source": [
    "class Solution:\n",
    "    def characterReplacement(self, s: str, k: int) -> int:\n",
    "        # Initialize variables\n",
    "        count = {}\n",
    "        max_length = 0\n",
    "        max_count = 0\n",
    "        start = 0\n",
    "\n",
    "        # Iterate over the string with the sliding window\n",
    "        for end in range(len(s)):\n",
    "            # Update frequency count of the current character\n",
    "            count[s[end]] = count.get(s[end], 0) + 1\n",
    "\n",
    "            # Track the maximum frequency of a single character in the current window\n",
    "            max_count = max(max_count, count[s[end]])\n",
    "\n",
    "            # Calculate the current window size\n",
    "            window_size = end - start + 1\n",
    "\n",
    "            # If the window is invalid (too many replacements needed), shrink it\n",
    "            if window_size - max_count > k:\n",
    "                count[s[start]] -= 1\n",
    "                start += 1\n",
    "\n",
    "            # Update the maximum length of a valid window\n",
    "            max_length = max(max_length, end - start + 1)\n",
    "\n",
    "        return max_length"
   ]
  },
  {
   "cell_type": "markdown",
   "metadata": {},
   "source": [
    "##### Explanation\n",
    "\n",
    "##### Initialization:\n",
    "- **`count`**: A dictionary to track the frequency of characters in the current window.\n",
    "- **`max_count`**: The count of the most frequent character in the window.\n",
    "- **`start`**: The left boundary of the sliding window.\n",
    "- **`max_length`**: Tracks the length of the longest valid substring.\n",
    "\n",
    "##### Sliding Window:\n",
    "1. For each character at position `end`, add it to the `count` dictionary and update `max_count` with the maximum frequency of any character in the window.\n",
    "2. Calculate the window size as `end - start + 1`.\n",
    "3. If replacements exceed `k` (i.e., `window_size - max_count > k`), shrink the window by moving the `start` pointer forward and decrementing the count of the character at `start`.\n",
    "4. Update `max_length` with the size of the valid window.\n",
    "\n",
    "##### Result:\n",
    "Return the maximum length of a valid substring where at most `k` replacements were made.\n",
    "\n",
    "##### Complexity\n",
    "\n",
    "- **Time Complexity**: \\(O(n)\\)  \n",
    "  The sliding window processes each character in the string once.\n",
    "\n",
    "- **Space Complexity**: \\(O(1)\\)  \n",
    "  The `count` dictionary is bounded by the number of unique characters (e.g., 26 for the English alphabet).\n",
    "\n"
   ]
  },
  {
   "cell_type": "markdown",
   "metadata": {},
   "source": []
  }
 ],
 "metadata": {
  "kernelspec": {
   "display_name": "cv",
   "language": "python",
   "name": "python3"
  },
  "language_info": {
   "name": "python",
   "version": "3.10.13"
  }
 },
 "nbformat": 4,
 "nbformat_minor": 2
}
