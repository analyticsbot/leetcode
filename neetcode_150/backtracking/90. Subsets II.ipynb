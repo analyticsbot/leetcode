{
 "cells": [
  {
   "cell_type": "markdown",
   "metadata": {},
   "source": [
    "Given an integer array nums that may contain duplicates, return all possible \n",
    "subsets\n",
    " (the power set).\n",
    "\n",
    "The solution set must not contain duplicate subsets. Return the solution in any order.\n",
    "\n",
    " \n",
    "\n",
    "Example 1:\n",
    "\n",
    "Input: nums = [1,2,2]\n",
    "Output: [[],[1],[1,2],[1,2,2],[2],[2,2]]\n",
    "Example 2:\n",
    "\n",
    "Input: nums = [0]\n",
    "Output: [[],[0]]\n",
    " \n",
    "\n",
    "Constraints:\n",
    "\n",
    "1 <= nums.length <= 10\n",
    "-10 <= nums[i] <= 10"
   ]
  },
  {
   "cell_type": "code",
   "execution_count": null,
   "metadata": {},
   "outputs": [],
   "source": [
    "from typing import List\n",
    "\n",
    "class Solution:\n",
    "    def subsetsWithDup(self, nums: List[int]) -> List[List[int]]:\n",
    "        result = []\n",
    "        nums.sort()  # Sort to handle duplicates\n",
    "\n",
    "        def backtrack(start, path):\n",
    "            result.append(path[:])  # Add the current subset to the result\n",
    "            for i in range(start, len(nums)):\n",
    "                if i > start and nums[i] == nums[i - 1]:  # Skip duplicates\n",
    "                    continue\n",
    "                path.append(nums[i])\n",
    "                backtrack(i + 1, path)  # Recurse with the next index\n",
    "                path.pop()  # Backtrack\n",
    "\n",
    "        backtrack(0, [])\n",
    "        return result\n"
   ]
  },
  {
   "cell_type": "code",
   "execution_count": null,
   "metadata": {},
   "outputs": [],
   "source": [
    "from typing import List\n",
    "\n",
    "class Solution:\n",
    "    def subsetsWithDup(self, nums: List[int]) -> List[List[int]]:\n",
    "        result = []\n",
    "        nums.sort()  # Sort to handle duplicates\n",
    "\n",
    "        def backtrack(i, subset):\n",
    "            if i>= len(nums):\n",
    "                result.append(subset[::])\n",
    "                return\n",
    "            subset.append(nums[i])\n",
    "            backtrack(i + 1, subset)  # Recurse with the next index\n",
    "            subset.pop()  # Backtrack\n",
    "\n",
    "            while i+1<len(nums) and nums[i]==nums[i+1]:\n",
    "                i+=1\n",
    "\n",
    "            backtrack(i + 1, subset)  # Recurse with the next index\n",
    "\n",
    "        backtrack(0, [])\n",
    "        return result\n"
   ]
  },
  {
   "cell_type": "code",
   "execution_count": null,
   "metadata": {},
   "outputs": [],
   "source": []
  },
  {
   "cell_type": "markdown",
   "metadata": {},
   "source": []
  }
 ],
 "metadata": {
  "kernelspec": {
   "display_name": "cv",
   "language": "python",
   "name": "python3"
  },
  "language_info": {
   "name": "python",
   "version": "3.10.13"
  }
 },
 "nbformat": 4,
 "nbformat_minor": 2
}
