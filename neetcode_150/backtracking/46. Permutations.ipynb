{
 "cells": [
  {
   "cell_type": "markdown",
   "metadata": {},
   "source": [
    "Given an array nums of distinct integers, return all the possible \n",
    "permutations\n",
    ". You can return the answer in any order.\n",
    "\n",
    " \n",
    "\n",
    "Example 1:\n",
    "\n",
    "Input: nums = [1,2,3]\n",
    "Output: [[1,2,3],[1,3,2],[2,1,3],[2,3,1],[3,1,2],[3,2,1]]\n",
    "Example 2:\n",
    "\n",
    "Input: nums = [0,1]\n",
    "Output: [[0,1],[1,0]]\n",
    "Example 3:\n",
    "\n",
    "Input: nums = [1]\n",
    "Output: [[1]]\n",
    " \n",
    "\n",
    "Constraints:\n",
    "\n",
    "1 <= nums.length <= 6\n",
    "-10 <= nums[i] <= 10\n",
    "All the integers of nums are unique.\n"
   ]
  },
  {
   "cell_type": "markdown",
   "metadata": {},
   "source": [
    "from typing import List\n",
    "\n",
    "class Solution:\n",
    "    def permute(self, nums: List[int]) -> List[List[int]]:\n",
    "        result = []\n",
    "\n",
    "        def backtrack(start):\n",
    "            # Base case: if the start index reaches the end, we have a complete permutation\n",
    "            if start == len(nums):\n",
    "                result.append(nums[:])  # Add a copy of the current permutation\n",
    "                return\n",
    "            \n",
    "            for i in range(start, len(nums)):\n",
    "                # Swap the current element with the start element\n",
    "                nums[start], nums[i] = nums[i], nums[start]\n",
    "                # Recurse with the next index\n",
    "                backtrack(start + 1)\n",
    "                # Backtrack by swapping the elements back\n",
    "                nums[start], nums[i] = nums[i], nums[start]\n",
    "\n",
    "        backtrack(0)\n",
    "        return result\n"
   ]
  }
 ],
 "metadata": {
  "language_info": {
   "name": "python"
  }
 },
 "nbformat": 4,
 "nbformat_minor": 2
}
