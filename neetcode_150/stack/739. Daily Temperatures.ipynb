{
 "cells": [
  {
   "cell_type": "markdown",
   "metadata": {},
   "source": [
    "Given an array of integers temperatures represents the daily temperatures, return an array answer such that answer[i] is the number of days you have to wait after the ith day to get a warmer temperature. If there is no future day for which this is possible, keep answer[i] == 0 instead.\n",
    "\n",
    " \n",
    "\n",
    "Example 1:\n",
    "\n",
    "Input: temperatures = [73,74,75,71,69,72,76,73]\n",
    "Output: [1,1,4,2,1,1,0,0]\n",
    "Example 2:\n",
    "\n",
    "Input: temperatures = [30,40,50,60]\n",
    "Output: [1,1,1,0]\n",
    "Example 3:\n",
    "\n",
    "Input: temperatures = [30,60,90]\n",
    "Output: [1,1,0]\n",
    " \n",
    "\n",
    "Constraints:\n",
    "\n",
    "1 <= temperatures.length <= 105\n",
    "30 <= temperatures[i] <= 100"
   ]
  },
  {
   "cell_type": "code",
   "execution_count": 1,
   "metadata": {},
   "outputs": [],
   "source": [
    "from typing import List\n",
    "class Solution:\n",
    "    def dailyTemperatures(self, temperatures: List[int]) -> List[int]:\n",
    "        n = len(temperatures)\n",
    "        result = [0] * n  # Initialize the result array with 0s\n",
    "        stack = []  # This will store indices of temperatures in a decreasing order\n",
    "        \n",
    "        for i in range(n):\n",
    "            # Check if the current temperature is greater than the temperature at the stack's top index\n",
    "            while stack and temperatures[i] > temperatures[stack[-1]]:\n",
    "                prev_index = stack.pop()\n",
    "                result[prev_index] = i - prev_index  # Calculate the difference in indices\n",
    "            stack.append(i)  # Add the current index to the stack\n",
    "        \n",
    "        return result\n"
   ]
  },
  {
   "cell_type": "markdown",
   "metadata": {},
   "source": []
  }
 ],
 "metadata": {
  "kernelspec": {
   "display_name": "cv",
   "language": "python",
   "name": "python3"
  },
  "language_info": {
   "codemirror_mode": {
    "name": "ipython",
    "version": 3
   },
   "file_extension": ".py",
   "mimetype": "text/x-python",
   "name": "python",
   "nbconvert_exporter": "python",
   "pygments_lexer": "ipython3",
   "version": "3.10.13"
  }
 },
 "nbformat": 4,
 "nbformat_minor": 2
}
