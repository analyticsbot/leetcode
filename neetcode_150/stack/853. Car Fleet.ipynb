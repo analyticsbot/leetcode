{
 "cells": [
  {
   "cell_type": "markdown",
   "metadata": {},
   "source": [
    "There are n cars at given miles away from the starting mile 0, traveling to reach the mile target.\n",
    "\n",
    "You are given two integer array position and speed, both of length n, where position[i] is the starting mile of the ith car and speed[i] is the speed of the ith car in miles per hour.\n",
    "\n",
    "A car cannot pass another car, but it can catch up and then travel next to it at the speed of the slower car.\n",
    "\n",
    "A car fleet is a car or cars driving next to each other. The speed of the car fleet is the minimum speed of any car in the fleet.\n",
    "\n",
    "If a car catches up to a car fleet at the mile target, it will still be considered as part of the car fleet.\n",
    "\n",
    "Return the number of car fleets that will arrive at the destination.\n",
    "\n",
    " \n",
    "\n",
    "Example 1:\n",
    "\n",
    "Input: target = 12, position = [10,8,0,5,3], speed = [2,4,1,1,3]\n",
    "\n",
    "Output: 3\n",
    "\n",
    "Explanation:\n",
    "\n",
    "The cars starting at 10 (speed 2) and 8 (speed 4) become a fleet, meeting each other at 12. The fleet forms at target.\n",
    "The car starting at 0 (speed 1) does not catch up to any other car, so it is a fleet by itself.\n",
    "The cars starting at 5 (speed 1) and 3 (speed 3) become a fleet, meeting each other at 6. The fleet moves at speed 1 until it reaches target.\n",
    "Example 2:\n",
    "\n",
    "Input: target = 10, position = [3], speed = [3]\n",
    "\n",
    "Output: 1\n",
    "\n",
    "Explanation:\n",
    "\n",
    "There is only one car, hence there is only one fleet.\n",
    "Example 3:\n",
    "\n",
    "Input: target = 100, position = [0,2,4], speed = [4,2,1]\n",
    "\n",
    "Output: 1\n",
    "\n",
    "Explanation:\n",
    "\n",
    "The cars starting at 0 (speed 4) and 2 (speed 2) become a fleet, meeting each other at 4. The car starting at 4 (speed 1) travels to 5.\n",
    "Then, the fleet at 4 (speed 2) and the car at position 5 (speed 1) become one fleet, meeting each other at 6. The fleet moves at speed 1 until it reaches target.\n",
    " \n",
    "\n",
    "Constraints:\n",
    "\n",
    "n == position.length == speed.length\n",
    "1 <= n <= 105\n",
    "0 < target <= 106\n",
    "0 <= position[i] < target\n",
    "All the values of position are unique.\n",
    "0 < speed[i] <= 106"
   ]
  },
  {
   "cell_type": "code",
   "execution_count": null,
   "metadata": {},
   "outputs": [],
   "source": [
    "class Solution:\n",
    "    def carFleet(self, target: int, position: List[int], speed: List[int]) -> int:\n",
    "        # Combine position and speed into a single list and sort by position in descending order\n",
    "        cars = sorted(zip(position, speed), reverse=True)\n",
    "        \n",
    "        fleets = 0  # Count of car fleets\n",
    "        time_to_reach = 0  # Time for the last car fleet to reach the target\n",
    "        \n",
    "        for pos, spd in cars:\n",
    "            # Calculate time for the current car to reach the target\n",
    "            current_time = (target - pos) / spd\n",
    "            \n",
    "            # If the current car's time is greater than the last car fleet's time,\n",
    "            # it starts a new fleet.\n",
    "            if current_time > time_to_reach:\n",
    "                fleets += 1\n",
    "                time_to_reach = current_time  # Update the time for the last fleet\n",
    "        \n",
    "        return fleets\n"
   ]
  },
  {
   "cell_type": "markdown",
   "metadata": {},
   "source": []
  }
 ],
 "metadata": {
  "kernelspec": {
   "display_name": "cv",
   "language": "python",
   "name": "python3"
  },
  "language_info": {
   "name": "python",
   "version": "3.10.13"
  }
 },
 "nbformat": 4,
 "nbformat_minor": 2
}
