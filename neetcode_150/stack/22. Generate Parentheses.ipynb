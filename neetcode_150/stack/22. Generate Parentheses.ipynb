{
 "cells": [
  {
   "cell_type": "markdown",
   "metadata": {},
   "source": [
    "Given n pairs of parentheses, write a function to generate all combinations of well-formed parentheses.\n",
    "\n",
    " \n",
    "\n",
    "Example 1:\n",
    "\n",
    "Input: n = 3\n",
    "Output: [\"((()))\",\"(()())\",\"(())()\",\"()(())\",\"()()()\"]\n",
    "\n",
    "Example 2:\n",
    "\n",
    "Input: n = 1\n",
    "Output: [\"()\"]\n",
    " \n",
    "\n",
    "Constraints:\n",
    "\n",
    "1 <= n <= 8"
   ]
  },
  {
   "cell_type": "code",
   "execution_count": null,
   "metadata": {},
   "outputs": [],
   "source": [
    "from typing import List\n",
    "class Solution:\n",
    "    def generateParenthesis(self, n: int) -> List[str]:\n",
    "        def backtrack(s, open_count, close_count):\n",
    "            # If the current string is complete, add it to the result\n",
    "            if len(s) == 2 * n:\n",
    "                result.append(s)\n",
    "                return\n",
    "            \n",
    "            # Add an open parenthesis if it's valid\n",
    "            if open_count < n:\n",
    "                backtrack(s + '(', open_count + 1, close_count)\n",
    "            \n",
    "            # Add a close parenthesis if it's valid\n",
    "            if close_count < open_count:\n",
    "                backtrack(s + ')', open_count, close_count + 1)\n",
    "        \n",
    "        result = []\n",
    "        backtrack('', 0, 0)\n",
    "        return result\n"
   ]
  },
  {
   "cell_type": "markdown",
   "metadata": {},
   "source": []
  }
 ],
 "metadata": {
  "kernelspec": {
   "display_name": "cv",
   "language": "python",
   "name": "python3"
  },
  "language_info": {
   "name": "python",
   "version": "3.10.13"
  }
 },
 "nbformat": 4,
 "nbformat_minor": 2
}
