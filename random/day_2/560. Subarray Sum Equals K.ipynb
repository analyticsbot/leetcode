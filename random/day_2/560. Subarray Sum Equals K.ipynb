{
 "cells": [
  {
   "cell_type": "markdown",
   "metadata": {},
   "source": [
    "# Medium\n",
    "\n",
    "## Topics\n",
    "- Companies\n",
    "\n",
    "### Hint\n",
    "Given an array of integers `nums` and an integer `k`, return the total number of subarrays whose sum equals to `k`.\n",
    "\n",
    "A subarray is a contiguous non-empty sequence of elements within an array.\n",
    "\n",
    "---\n",
    "\n",
    "### Example 1:\n",
    "\n",
    "**Input:**  \n",
    "`nums = [1,1,1]`, `k = 2`  \n",
    "**Output:**  \n",
    "`2`  \n",
    "\n",
    "---\n",
    "\n",
    "### Example 2:\n",
    "\n",
    "**Input:**  \n",
    "`nums = [1,2,3]`, `k = 3`  \n",
    "**Output:**  \n",
    "`2`  \n",
    "\n",
    "---\n",
    "\n",
    "### Constraints:\n",
    "- `1 <= nums.length <= 2 * 10^4`\n",
    "- `-1000 <= nums[i] <= 1000`\n",
    "- `-10^7 <= k <= 10^7`\n"
   ]
  },
  {
   "cell_type": "code",
   "execution_count": 1,
   "metadata": {},
   "outputs": [],
   "source": [
    "from collections import defaultdict\n",
    "from typing import List\n",
    "\n",
    "class Solution:\n",
    "    def subarraySum(self, nums: List[int], k: int) -> int:\n",
    "        prefix_sum = defaultdict(int)\n",
    "        prefix_sum[0] = 1\n",
    "        total = 0\n",
    "        count = 0\n",
    "\n",
    "        for num in nums:\n",
    "            total+=num\n",
    "            if total-k in prefix_sum:\n",
    "                count+=prefix_sum[total - k]\n",
    "            prefix_sum[total]+=1\n",
    "\n",
    "        #print (prefix_sum)\n",
    "        return count\n",
    "            "
   ]
  },
  {
   "cell_type": "code",
   "execution_count": null,
   "metadata": {},
   "outputs": [],
   "source": []
  }
 ],
 "metadata": {
  "kernelspec": {
   "display_name": "cv",
   "language": "python",
   "name": "python3"
  },
  "language_info": {
   "codemirror_mode": {
    "name": "ipython",
    "version": 3
   },
   "file_extension": ".py",
   "mimetype": "text/x-python",
   "name": "python",
   "nbconvert_exporter": "python",
   "pygments_lexer": "ipython3",
   "version": "3.10.13"
  }
 },
 "nbformat": 4,
 "nbformat_minor": 2
}
