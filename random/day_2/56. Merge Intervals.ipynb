{
 "cells": [
  {
   "cell_type": "markdown",
   "metadata": {},
   "source": [
    "### Problem: Merge Intervals\n",
    "\n",
    "Given an array of intervals where `intervals[i] = [starti, endi]`, merge all overlapping intervals and return an array of the non-overlapping intervals that cover all the intervals in the input.\n",
    "\n",
    "---\n",
    "\n",
    "#### Examples\n",
    "\n",
    "##### Example 1:\n",
    "**Input**:  \n",
    "`intervals = [[1,3],[2,6],[8,10],[15,18]]`  \n",
    "**Output**:  \n",
    "`[[1,6],[8,10],[15,18]]`  \n",
    "**Explanation**:  \n",
    "Since intervals `[1,3]` and `[2,6]` overlap, merge them into `[1,6]`.\n",
    "\n",
    "##### Example 2:\n",
    "**Input**:  \n",
    "`intervals = [[1,4],[4,5]]`  \n",
    "**Output**:  \n",
    "`[[1,5]]`  \n",
    "**Explanation**:  \n",
    "Intervals `[1,4]` and `[4,5]` are considered overlapping.\n",
    "\n",
    "---\n",
    "\n",
    "#### Constraints\n",
    "\n",
    "- `1 <= intervals.length <= 10^4`\n",
    "- `intervals[i].length == 2`\n",
    "- `0 <= starti <= endi <= 10^4`\n"
   ]
  },
  {
   "cell_type": "code",
   "execution_count": null,
   "metadata": {},
   "outputs": [],
   "source": [
    "class Solution:\n",
    "    def merge(self, intervals: List[List[int]]) -> List[List[int]]:\n",
    "        intervals = sorted(intervals, key=lambda x: x[0])\n",
    "        print (intervals)\n",
    "\n",
    "        merged = []\n",
    "\n",
    "        for interval in intervals:\n",
    "            if not merged or  interval[0]>merged[-1][1]:\n",
    "                merged.append(interval)\n",
    "            else:\n",
    "                merged[-1][1] = max(merged[-1][1], interval[1])\n",
    "\n",
    "        return merged"
   ]
  }
 ],
 "metadata": {
  "language_info": {
   "name": "python"
  }
 },
 "nbformat": 4,
 "nbformat_minor": 2
}
