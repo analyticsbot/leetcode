{
 "cells": [
  {
   "cell_type": "markdown",
   "metadata": {},
   "source": [
    "# Medium\n",
    "\n",
    "## Topics\n",
    "- Companies\n",
    "\n",
    "---\n",
    "\n",
    "## Problem\n",
    "\n",
    "You are given two strings `order` and `s`. All the characters of `order` are unique and were sorted in some custom order previously.\n",
    "\n",
    "Permute the characters of `s` so that they match the order that `order` was sorted. More specifically, if a character `x` occurs before a character `y` in `order`, then `x` should occur before `y` in the permuted string.\n",
    "\n",
    "Return any permutation of `s` that satisfies this property.\n",
    "\n",
    "---\n",
    "\n",
    "### Example 1:\n",
    "\n",
    "**Input:**  \n",
    "`order = \"cba\", s = \"abcd\"`  \n",
    "**Output:**  \n",
    "`\"cbad\"`  \n",
    "**Explanation:**  \n",
    "\"c\", \"b\", \"a\" appear in order, so the order of \"a\", \"b\", \"c\" should be \"c\", \"b\", and \"a\".  \n",
    "Since \"d\" does not appear in `order`, it can be at any position in the returned string. \"dcba\", \"cdba\", \"cbda\" are also valid outputs.\n",
    "\n",
    "---\n",
    "\n",
    "### Example 2:\n",
    "\n",
    "**Input:**  \n",
    "`order = \"bcafg\", s = \"abcd\"`  \n",
    "**Output:**  \n",
    "`\"bcad\"`  \n",
    "**Explanation:**  \n",
    "The characters \"b\", \"c\", and \"a\" from `order` dictate the order for the characters in `s`.  \n",
    "The character \"d\" in `s` does not appear in `order`, so its position is flexible.  \n",
    "Following the order of appearance in `order`, \"b\", \"c\", and \"a\" from `s` should be arranged as \"b\", \"c\", \"a\".  \n",
    "\"d\" can be placed at any position since it's not in `order`. The output `\"bcad\"` correctly follows this rule.  \n",
    "Other arrangements like `\"dbca\"` or `\"bcda\"` would also be valid, as long as \"b\", \"c\", \"a\" maintain their order.\n",
    "\n",
    "---\n",
    "\n",
    "### Constraints:\n",
    "\n",
    "- `1 <= order.length <= 26`\n",
    "- `1 <= s.length <= 200`\n",
    "- `order` and `s` consist of lowercase English letters.\n",
    "- All the characters of `order` are unique.\n"
   ]
  },
  {
   "cell_type": "code",
   "execution_count": 1,
   "metadata": {},
   "outputs": [],
   "source": [
    "from collections import Counter\n",
    "\n",
    "class Solution:\n",
    "    def customSortString(self, order: str, s: str) -> str:\n",
    "        count_s = Counter(s)\n",
    "\n",
    "        new_s = ''\n",
    "        for o in order:\n",
    "            if o in count_s:\n",
    "                new_s+=o*count_s[o]\n",
    "                del count_s[o]\n",
    "        \n",
    "        for i,k in count_s.items():\n",
    "            new_s+=i*k\n",
    "        return new_s\n"
   ]
  },
  {
   "cell_type": "code",
   "execution_count": null,
   "metadata": {},
   "outputs": [],
   "source": []
  }
 ],
 "metadata": {
  "kernelspec": {
   "display_name": "cv",
   "language": "python",
   "name": "python3"
  },
  "language_info": {
   "codemirror_mode": {
    "name": "ipython",
    "version": 3
   },
   "file_extension": ".py",
   "mimetype": "text/x-python",
   "name": "python",
   "nbconvert_exporter": "python",
   "pygments_lexer": "ipython3",
   "version": "3.10.13"
  }
 },
 "nbformat": 4,
 "nbformat_minor": 2
}
