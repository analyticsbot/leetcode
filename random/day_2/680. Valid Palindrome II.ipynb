{
 "cells": [
  {
   "cell_type": "markdown",
   "metadata": {},
   "source": [
    "# Easy\n",
    "\n",
    "## Topics\n",
    "- Companies\n",
    "\n",
    "---\n",
    "\n",
    "Given a string `s`, return `true` if the string can be a palindrome after deleting at most one character from it.\n",
    "\n",
    "---\n",
    "\n",
    "### Example 1:\n",
    "\n",
    "**Input:**  \n",
    "`s = \"aba\"`  \n",
    "**Output:**  \n",
    "`true`  \n",
    "\n",
    "---\n",
    "\n",
    "### Example 2:\n",
    "\n",
    "**Input:**  \n",
    "`s = \"abca\"`  \n",
    "**Output:**  \n",
    "`true`  \n",
    "**Explanation:**  \n",
    "You could delete the character `'c'`.  \n",
    "\n",
    "---\n",
    "\n",
    "### Example 3:\n",
    "\n",
    "**Input:**  \n",
    "`s = \"abc\"`  \n",
    "**Output:**  \n",
    "`false`  \n",
    "\n",
    "---\n",
    "\n",
    "### Constraints:\n",
    "- `1 <= s.length <= 10^5`\n",
    "- `s` consists of lowercase English letters.\n"
   ]
  },
  {
   "cell_type": "code",
   "execution_count": null,
   "metadata": {},
   "outputs": [],
   "source": [
    "class Solution:\n",
    "    def validPalindrome(self, s: str) -> bool:\n",
    "        left, right = 0, len(s) - 1\n",
    "        \n",
    "        while left < right:\n",
    "            if s[left] != s[right]:\n",
    "                # Check by skipping one character either from the left or the right\n",
    "                skip_left = s[left+1:right+1]\n",
    "                skip_right = s[left:right]\n",
    "                return skip_left == skip_left[::-1] or skip_right == skip_right[::-1]\n",
    "            left += 1\n",
    "            right -= 1\n",
    "        \n",
    "        return True\n"
   ]
  }
 ],
 "metadata": {
  "language_info": {
   "name": "python"
  }
 },
 "nbformat": 4,
 "nbformat_minor": 2
}
