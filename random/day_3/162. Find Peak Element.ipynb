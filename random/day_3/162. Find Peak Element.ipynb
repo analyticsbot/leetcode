{
 "cells": [
  {
   "cell_type": "markdown",
   "metadata": {},
   "source": [
    "# Medium  \n",
    "## Topics  \n",
    "- Arrays  \n",
    "- Binary Search  \n",
    "\n",
    "## Companies  \n",
    "- Multiple  \n",
    "\n",
    "---\n",
    "\n",
    "### Problem Statement  \n",
    "\n",
    "A **peak element** is an element that is strictly greater than its neighbors.  \n",
    "\n",
    "Given a 0-indexed integer array `nums`, find a peak element, and return its **index**. If the array contains multiple peaks, return the index of **any** peak.  \n",
    "\n",
    "You may imagine that `nums[-1] = nums[n] = -∞`. In other words, an element is always considered to be strictly greater than a neighbor that is outside the array.  \n",
    "\n",
    "You must write an algorithm that runs in **O(log n)** time.  \n",
    "\n",
    "---\n",
    "\n",
    "### Examples  \n",
    "\n",
    "#### Example 1:  \n",
    "**Input:**  \n",
    "`nums = [1, 2, 3, 1]`  \n",
    "**Output:**  \n",
    "`2`  \n",
    "**Explanation:**  \n",
    "`3` is a peak element, and its index is `2`.  \n",
    "\n",
    "#### Example 2:  \n",
    "**Input:**  \n",
    "`nums = [1, 2, 1, 3, 5, 6, 4]`  \n",
    "**Output:**  \n",
    "`5`  \n",
    "**Explanation:**  \n",
    "Your function can return either index `1` (peak `2`) or index `5` (peak `6`).  \n",
    "\n",
    "---\n",
    "\n",
    "### Constraints  \n",
    "\n",
    "- `1 <= nums.length <= 1000`  \n",
    "- `-2^31 <= nums[i] <= 2^31 - 1`  \n",
    "- `nums[i] != nums[i + 1]` for all valid `i`.  \n"
   ]
  },
  {
   "cell_type": "code",
   "execution_count": 1,
   "metadata": {},
   "outputs": [],
   "source": [
    "from typing import List\n",
    "\n",
    "class Solution:\n",
    "    def findPeakElement(self, nums: List[int]) -> int:\n",
    "        left, right = 0, len(nums) - 1\n",
    "        \n",
    "        while left < right:\n",
    "            mid = (left + right) // 2\n",
    "            \n",
    "            # Check if mid element is greater than the next element\n",
    "            if nums[mid] > nums[mid + 1]:\n",
    "                # If yes, then a peak must be on the left side (including mid)\n",
    "                right = mid\n",
    "            else:\n",
    "                # Otherwise, the peak must be on the right side\n",
    "                left = mid + 1\n",
    "        \n",
    "        # At the end of the loop, left and right will converge to the peak element\n",
    "        return left\n"
   ]
  }
 ],
 "metadata": {
  "kernelspec": {
   "display_name": "cv",
   "language": "python",
   "name": "python3"
  },
  "language_info": {
   "codemirror_mode": {
    "name": "ipython",
    "version": 3
   },
   "file_extension": ".py",
   "mimetype": "text/x-python",
   "name": "python",
   "nbconvert_exporter": "python",
   "pygments_lexer": "ipython3",
   "version": "3.10.13"
  }
 },
 "nbformat": 4,
 "nbformat_minor": 2
}
