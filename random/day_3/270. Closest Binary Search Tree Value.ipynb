{
 "cells": [
  {
   "cell_type": "markdown",
   "metadata": {},
   "source": [
    "# Closest Value in a Binary Search Tree  \n",
    "**Difficulty:** Easy **Topics:** Binary Search Tree, Binary Search, Recursion **Companies:** Various  \n",
    "## Problem Statement  \n",
    "Given the root of a binary search tree (BST) and a target value, return the value in the BST that is closest to the target. If there are multiple answers, return the smallest.  \n",
    "### Example 1  \n",
    "**Input:** `root = [4, 2, 5, 1, 3], target = 3.714286` **Output:** `4`  \n",
    "### Example 2  \n",
    "**Input:** `root = [1], target = 4.428571` **Output:** `1`  \n",
    "## Constraints  \n",
    "- The number of nodes in the tree is in the range `[1, 10^4]`.  \n",
    "- `0 <= Node.val <= 10^9`  \n",
    "- `-10^9 <= target <= 10^9`\n"
   ]
  },
  {
   "cell_type": "code",
   "execution_count": null,
   "metadata": {},
   "outputs": [],
   "source": [
    "# Definition for a binary tree node.\n",
    "# class TreeNode:\n",
    "#     def __init__(self, val=0, left=None, right=None):\n",
    "#         self.val = val\n",
    "#         self.left = left\n",
    "#         self.right = right\n",
    "from collections import deque\n",
    "class Solution:\n",
    "    def closestValue(self, root: Optional[TreeNode], target: float) -> int:\n",
    "        if not root:\n",
    "            return None\n",
    "        min_val = root.val\n",
    "\n",
    "        q = deque([root])\n",
    "\n",
    "        while q:\n",
    "            node = q.popleft()\n",
    "            if abs(node.val - target) <= abs(min_val - target):\n",
    "                min_val = node.val\n",
    "\n",
    "            # Add children to the queue if they exist\n",
    "            if node.left:\n",
    "                q.append(node.left)\n",
    "            if node.right:\n",
    "                q.append(node.right)\n",
    "        return min_val"
   ]
  },
  {
   "cell_type": "code",
   "execution_count": null,
   "metadata": {},
   "outputs": [],
   "source": [
    "# Definition for a binary tree node.\n",
    "# class TreeNode:\n",
    "#     def __init__(self, val=0, left=None, right=None):\n",
    "#         self.val = val\n",
    "#         self.left = left\n",
    "#         self.right = right\n",
    "class Solution:\n",
    "    def closestValue(self, root: Optional[TreeNode], target: float) -> int:\n",
    "        queue = deque([root])\n",
    "        minval = root.val\n",
    "        while queue:\n",
    "            node = queue.popleft()\n",
    "            if abs(target-node.val)<abs(target-minval):\n",
    "                minval = node.val\n",
    "            if abs(target-node.val)==abs(target-minval):\n",
    "                minval = min(node.val, minval)\n",
    "            \n",
    "            if node.left:\n",
    "                queue.append(node.left)\n",
    "            if node.right:\n",
    "                queue.append(node.right)\n",
    "\n",
    "        return minval"
   ]
  }
 ],
 "metadata": {
  "language_info": {
   "name": "python"
  }
 },
 "nbformat": 4,
 "nbformat_minor": 2
}
