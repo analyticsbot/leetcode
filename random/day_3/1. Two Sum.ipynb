{
 "cells": [
  {
   "cell_type": "markdown",
   "metadata": {},
   "source": [
    "# Easy  \n",
    "## Topics  \n",
    "- Arrays  \n",
    "- Hash Tables  \n",
    "\n",
    "## Companies  \n",
    "- Multiple  \n",
    "\n",
    "---\n",
    "\n",
    "### Problem Statement  \n",
    "\n",
    "Given an array of integers `nums` and an integer `target`, return **indices of the two numbers** such that they add up to `target`.  \n",
    "\n",
    "- You may assume that each input would have **exactly one solution**, and you may not use the same element twice.  \n",
    "- You can return the answer in **any order**.  \n",
    "\n",
    "---\n",
    "\n",
    "### Examples  \n",
    "\n",
    "#### Example 1:  \n",
    "**Input:**  \n",
    "`nums = [2,7,11,15]`, `target = 9`  \n",
    "**Output:**  \n",
    "`[0,1]`  \n",
    "**Explanation:**  \n",
    "Because `nums[0] + nums[1] == 9`, we return `[0, 1]`.  \n",
    "\n",
    "#### Example 2:  \n",
    "**Input:**  \n",
    "`nums = [3,2,4]`, `target = 6`  \n",
    "**Output:**  \n",
    "`[1,2]`  \n",
    "\n",
    "#### Example 3:  \n",
    "**Input:**  \n",
    "`nums = [3,3]`, `target = 6`  \n",
    "**Output:**  \n",
    "`[0,1]`  \n",
    "\n",
    "---\n",
    "\n",
    "### Constraints  \n",
    "\n",
    "- `2 <= nums.length <= 10^4`  \n",
    "- `-10^9 <= nums[i] <= 10^9`  \n",
    "- `-10^9 <= target <= 10^9`  \n",
    "- **Only one valid answer exists.**  \n",
    "\n",
    "---\n",
    "\n",
    "### Follow-up  \n",
    "\n",
    "Can you come up with an algorithm that has a time complexity less than `O(n^2)`?  \n"
   ]
  },
  {
   "cell_type": "code",
   "execution_count": 2,
   "metadata": {},
   "outputs": [],
   "source": [
    "from typing import List\n",
    "class Solution:\n",
    "    def twoSum(self, nums: List[int], target: int) -> List[int]:\n",
    "        hash_map = {}\n",
    "        for i,num in enumerate(nums):\n",
    "            if target-num in hash_map:\n",
    "                return i, hash_map[target-num]\n",
    "            else:\n",
    "                hash_map[num]=i\n",
    "                "
   ]
  },
  {
   "cell_type": "code",
   "execution_count": null,
   "metadata": {},
   "outputs": [],
   "source": []
  }
 ],
 "metadata": {
  "kernelspec": {
   "display_name": "cv",
   "language": "python",
   "name": "python3"
  },
  "language_info": {
   "codemirror_mode": {
    "name": "ipython",
    "version": 3
   },
   "file_extension": ".py",
   "mimetype": "text/x-python",
   "name": "python",
   "nbconvert_exporter": "python",
   "pygments_lexer": "ipython3",
   "version": "3.10.13"
  }
 },
 "nbformat": 4,
 "nbformat_minor": 2
}
