{
 "cells": [
  {
   "cell_type": "markdown",
   "metadata": {},
   "source": [
    "## Problem: K Closest Points to Origin\n",
    "\n",
    "Given an array of points where `points[i] = [xi, yi]` represents a point on the X-Y plane and an integer `k`, return the `k` closest points to the origin `(0, 0)`.\n",
    "\n",
    "The distance between two points on the X-Y plane is the Euclidean distance, i.e., `√((x1 - x2)² + (y1 - y2)²)`.\n",
    "\n",
    "You may return the answer in any order. The answer is guaranteed to be unique (except for the order that it is in).\n",
    "\n",
    "### Example 1:\n",
    "**Input**: \n",
    "```plaintext\n",
    "points = [[1,3],[-2,2]], k = 1\n",
    "\n",
    "Output:\n",
    "\n",
    "\n",
    "[[-2,2]]\n",
    "\n",
    "Explanation:\n",
    "\n",
    "The distance between (1, 3) and the origin is sqrt(10).\n",
    "The distance between (-2, 2) and the origin is sqrt(8).\n",
    "Since sqrt(8) < sqrt(10), (-2, 2) is closer to the origin.\n",
    "We only want the closest k = 1 points from the origin, so the answer is just [[-2,2]].\n",
    "\n",
    "Example 2:\n",
    "Input:\n",
    "points = [[3,3],[5,-1],[-2,4]], k = 2\n",
    "\n",
    "Explanation:\n",
    "\n",
    "The distance between (3, 3) and the origin is sqrt(18).\n",
    "The distance between (5, -1) and the origin is sqrt(26).\n",
    "The distance between (-2, 4) and the origin is sqrt(20).\n",
    "We want the closest k = 2 points from the origin, so the answer could be [[3,3], [-2,4]]. Other valid answers, like [[-2, 4], [3, 3]], are also acceptable.\n",
    "Constraints:\n",
    "1 <= k <= points.length <= 10⁴\n",
    "-10⁴ <= xi, yi <= 10⁴\n",
    "```\n",
    "\n"
   ]
  },
  {
   "cell_type": "code",
   "execution_count": null,
   "metadata": {},
   "outputs": [],
   "source": [
    "import heapq\n",
    "\n",
    "class Solution:\n",
    "    def kClosest(self, points: List[List[int]], k: int) -> List[List[int]]:\n",
    "        min_heap = []\n",
    "        for point in points:\n",
    "            heapq.heappush(min_heap, (-point[0]**2 - point[1]**2, point))\n",
    "            if len(min_heap)>k:\n",
    "                heapq.heappop(min_heap)\n",
    "\n",
    "        return [m[1] for m in min_heap]"
   ]
  }
 ],
 "metadata": {
  "language_info": {
   "name": "python"
  }
 },
 "nbformat": 4,
 "nbformat_minor": 2
}
