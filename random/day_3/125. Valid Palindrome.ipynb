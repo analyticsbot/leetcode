{
 "cells": [
  {
   "cell_type": "markdown",
   "metadata": {},
   "source": [
    "# Easy  \n",
    "**Topics**  \n",
    "**Companies**  \n",
    "\n",
    "A phrase is a palindrome if, after converting all uppercase letters into lowercase letters and removing all non-alphanumeric characters, it reads the same forward and backward. Alphanumeric characters include letters and numbers.  \n",
    "\n",
    "Given a string `s`, return `true` if it is a palindrome, or `false` otherwise.  \n",
    "\n",
    "---\n",
    "\n",
    "### Example 1:  \n",
    "**Input:**  \n",
    "`s = \"A man, a plan, a canal: Panama\"`  \n",
    "**Output:**  \n",
    "`true`  \n",
    "\n",
    "**Explanation:**  \n",
    "`\"amanaplanacanalpanama\"` is a palindrome.  \n",
    "\n",
    "---\n",
    "\n",
    "### Example 2:  \n",
    "**Input:**  \n",
    "`s = \"race a car\"`  \n",
    "**Output:**  \n",
    "`false`  \n",
    "\n",
    "**Explanation:**  \n",
    "`\"raceacar\"` is not a palindrome.  \n",
    "\n",
    "---\n",
    "\n",
    "### Example 3:  \n",
    "**Input:**  \n",
    "`s = \" \"`  \n",
    "**Output:**  \n",
    "`true`  \n",
    "\n",
    "**Explanation:**  \n",
    "`s` is an empty string `\"\"` after removing non-alphanumeric characters. Since an empty string reads the same forward and backward, it is a palindrome.  \n",
    "\n",
    "---\n",
    "\n",
    "### Constraints:\n",
    "- `1 <= s.length <= 2 * 10^5`  \n",
    "- `s` consists only of printable ASCII characters.  \n"
   ]
  },
  {
   "cell_type": "code",
   "execution_count": null,
   "metadata": {},
   "outputs": [],
   "source": [
    "class Solution:\n",
    "    def isPalindrome(self, s: str) -> bool:\n",
    "        left, right = 0, len(s)-1\n",
    "        s = s.lower()\n",
    "\n",
    "        while left<right:\n",
    "            while left < right and not s[left].isalnum():\n",
    "                left += 1\n",
    "            # Move right pointer until an alphanumeric character is found or bounds are exceeded\n",
    "            while left < right and not s[right].isalnum():\n",
    "                right -= 1\n",
    "            \n",
    "            if s[left]!=s[right]:\n",
    "                return False\n",
    "            \n",
    "            left+=1\n",
    "            right-=1 \n",
    "        return True\n"
   ]
  }
 ],
 "metadata": {
  "language_info": {
   "name": "python"
  }
 },
 "nbformat": 4,
 "nbformat_minor": 2
}
