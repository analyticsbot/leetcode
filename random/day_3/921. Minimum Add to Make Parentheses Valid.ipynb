{
 "cells": [
  {
   "cell_type": "markdown",
   "metadata": {},
   "source": [
    "# Medium  \n",
    "## Topics  \n",
    "- Strings  \n",
    "- Stack  \n",
    "\n",
    "## Companies  \n",
    "- Multiple  \n",
    "\n",
    "---\n",
    "\n",
    "### Problem Statement  \n",
    "\n",
    "A parentheses string is valid if and only if:  \n",
    "1. It is the empty string,  \n",
    "2. It can be written as `AB` (A concatenated with B), where `A` and `B` are valid strings, or  \n",
    "3. It can be written as `(A)`, where `A` is a valid string.  \n",
    "\n",
    "You are given a parentheses string `s`. In one move, you can insert a parenthesis at **any position** of the string.  \n",
    "\n",
    "For example, if `s = \"()))\"`, you can insert an opening parenthesis to get `\"(()))\"` or a closing parenthesis to get `\"()))))\"`.  \n",
    "\n",
    "Return the **minimum number of moves** required to make `s` valid.  \n",
    "\n",
    "---\n",
    "\n",
    "### Examples  \n",
    "\n",
    "#### Example 1:  \n",
    "**Input:**  \n",
    "`s = \"())\"`  \n",
    "**Output:**  \n",
    "`1`  \n",
    "\n",
    "#### Example 2:  \n",
    "**Input:**  \n",
    "`s = \"(((\"`  \n",
    "**Output:**  \n",
    "`3`  \n",
    "\n",
    "---\n",
    "\n",
    "### Constraints  \n",
    "\n",
    "- `1 <= s.length <= 1000`  \n",
    "- `s[i]` is either `'('` or `')'`.  \n"
   ]
  },
  {
   "cell_type": "code",
   "execution_count": null,
   "metadata": {},
   "outputs": [],
   "source": [
    "class Solution:\n",
    "    def minAddToMakeValid(self, s: str) -> int:\n",
    "        o_c=0\n",
    "        c_c=0\n",
    "        for i in s:\n",
    "            if i=='(':\n",
    "                o_c+=1\n",
    "            elif i==')':\n",
    "                if o_c:\n",
    "                    o_c-=1\n",
    "                else:\n",
    "                    c_c+=1\n",
    "        return o_c+c_c"
   ]
  }
 ],
 "metadata": {
  "language_info": {
   "name": "python"
  }
 },
 "nbformat": 4,
 "nbformat_minor": 2
}
