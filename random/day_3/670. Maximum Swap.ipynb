{
 "cells": [
  {
   "cell_type": "markdown",
   "metadata": {},
   "source": [
    "# Medium  \n",
    "**Topics**  \n",
    "**Companies**  \n",
    "\n",
    "You are given an integer `num`. You can swap two digits at most once to get the maximum valued number.  \n",
    "\n",
    "Return the maximum valued number you can get.  \n",
    "\n",
    "---\n",
    "\n",
    "### Example 1:  \n",
    "**Input:**  \n",
    "`num = 2736`  \n",
    "**Output:**  \n",
    "`7236`  \n",
    "\n",
    "**Explanation:**  \n",
    "Swap the number `2` and the number `7`.  \n",
    "\n",
    "---\n",
    "\n",
    "### Example 2:  \n",
    "**Input:**  \n",
    "`num = 9973`  \n",
    "**Output:**  \n",
    "`9973`  \n",
    "\n",
    "**Explanation:**  \n",
    "No swap needed as the number is already the maximum.  \n",
    "\n",
    "---\n",
    "\n",
    "### Constraints:\n",
    "- `0 <= num <= 10^8`  \n"
   ]
  },
  {
   "cell_type": "code",
   "execution_count": null,
   "metadata": {},
   "outputs": [],
   "source": [
    "class Solution:\n",
    "    def maximumSwap(self, num: int) -> int:\n",
    "        digits = [int(i) for i in str(num)]  # Convert number into a list of digits\n",
    "        # Create a dictionary to store the last occurrence of each digit\n",
    "        last = {digit: i for i, digit in enumerate(digits)}\n",
    "        \n",
    "        for i, digit in enumerate(digits):\n",
    "            # Check if there is any larger digit in the later part of the list\n",
    "            for d in range(9, digit, -1):\n",
    "                if d in last and last[d] > i:\n",
    "                    # Swap the digits\n",
    "                    digits[i], digits[last[d]] = digits[last[d]], digits[i]\n",
    "                    return int(''.join(map(str, digits)))  # Return the number after the swap\n",
    "\n",
    "        return num  # If no swap was made, return the original number\n"
   ]
  },
  {
   "cell_type": "markdown",
   "metadata": {},
   "source": [
    "Python implementation that swaps at most k times to get the maximum possible number"
   ]
  },
  {
   "cell_type": "code",
   "execution_count": null,
   "metadata": {},
   "outputs": [],
   "source": [
    "class Solution:\n",
    "    def maximumSwap(self, num: int, k: int) -> int:\n",
    "        # Convert number to a list of digits\n",
    "        digits = [int(digit) for digit in str(num)]\n",
    "        n = len(digits)\n",
    "\n",
    "        # Store the last occurrence of each digit\n",
    "        last_occurrence = {digit: idx for idx, digit in enumerate(digits)}\n",
    "\n",
    "        swaps = 0  # Number of swaps made\n",
    "\n",
    "        for i in range(n):\n",
    "            # Try to find the maximum possible digit to swap with digits[i]\n",
    "            for digit in range(9, digits[i], -1):\n",
    "                if digit in last_occurrence and last_occurrence[digit] > i:\n",
    "                    # Perform the swap\n",
    "                    digits[i], digits[last_occurrence[digit]] = digits[last_occurrence[digit]], digits[i]\n",
    "                    swaps += 1\n",
    "                    # If we've performed the maximum allowed swaps, return the result\n",
    "                    if swaps == k:\n",
    "                        return int(''.join(map(str, digits)))\n",
    "                    # After the swap, update the last occurrence to avoid unnecessary swaps\n",
    "                    last_occurrence[digits[i]] = i\n",
    "                    break\n",
    "\n",
    "        # Return the number as an integer\n",
    "        return int(''.join(map(str, digits)))\n"
   ]
  }
 ],
 "metadata": {
  "language_info": {
   "name": "python"
  }
 },
 "nbformat": 4,
 "nbformat_minor": 2
}
