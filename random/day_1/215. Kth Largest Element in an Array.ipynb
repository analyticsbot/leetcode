{
 "cells": [
  {
   "cell_type": "markdown",
   "metadata": {},
   "source": [
    "# Medium\n",
    "## Topics: Arrays, Heaps\n",
    "## Companies: [Relevant Company Names]\n",
    "\n",
    "Given an integer array `nums` and an integer `k`, return the `k`th largest element in the array. Note that it is the `k`th largest element in the sorted order, not the `k`th distinct element.\n",
    "\n",
    "Can you solve it without sorting?\n",
    "\n",
    "---\n",
    "\n",
    "### Example 1\n",
    "\n",
    "**Input:**  \n",
    "`nums = [3,2,1,5,6,4], k = 2`\n",
    "\n",
    "**Output:**  \n",
    "`5`\n",
    "\n",
    "---\n",
    "\n",
    "### Example 2\n",
    "\n",
    "**Input:**  \n",
    "`nums = [3,2,3,1,2,4,5,5,6], k = 4`\n",
    "\n",
    "**Output:**  \n",
    "`4`\n",
    "\n",
    "---\n",
    "\n",
    "## Constraints\n",
    "\n",
    "- `1 <= k <= nums.length <= 10^5`\n",
    "- `-10^4 <= nums[i] <= 10^4`\n"
   ]
  },
  {
   "cell_type": "code",
   "execution_count": null,
   "metadata": {},
   "outputs": [],
   "source": [
    "import heapq\n",
    "\n",
    "class Solution:\n",
    "    def findKthLargest(self, nums: List[int], k: int) -> int:\n",
    "        heap = []\n",
    "        for n in nums:\n",
    "            heapq.heappush(heap, n)\n",
    "\n",
    "            if len(heap)>k:\n",
    "                heapq.heappop(heap)\n",
    "        return heap[0]\n",
    "       "
   ]
  },
  {
   "cell_type": "code",
   "execution_count": null,
   "metadata": {},
   "outputs": [],
   "source": [
    "class Solution:\n",
    "    def findKthLargest(self, nums: List[int], k: int) -> int:\n",
    "        # Sort the list in descending order\n",
    "        nums.sort(reverse=True)\n",
    "        # Return the k-th largest element (index k-1)\n",
    "        return nums[k-1]\n"
   ]
  },
  {
   "cell_type": "code",
   "execution_count": null,
   "metadata": {},
   "outputs": [],
   "source": [
    "class Solution:\n",
    "    def findKthLargest(self, nums: List[int], k: int) -> int:\n",
    "        def quickselect(left, right):\n",
    "            pivot = nums[right]\n",
    "            p_index = left\n",
    "\n",
    "            # Partition the array into two halves around the pivot\n",
    "            for i in range(left, right):\n",
    "                if nums[i] > pivot:\n",
    "                    nums[i], nums[p_index] = nums[p_index], nums[i]\n",
    "                    p_index += 1\n",
    "            nums[p_index], nums[right] = nums[right], nums[p_index]\n",
    "            \n",
    "            # The pivot is now at the correct position\n",
    "            # If p_index == k-1, we've found the k-th largest element\n",
    "            if p_index == k-1:\n",
    "                return nums[p_index]\n",
    "            # Otherwise, recurse on the left or right partition\n",
    "            elif p_index < k-1:\n",
    "                return quickselect(p_index + 1, right)\n",
    "            else:\n",
    "                return quickselect(left, p_index - 1)\n",
    "\n",
    "        return quickselect(0, len(nums) - 1)\n"
   ]
  },
  {
   "cell_type": "code",
   "execution_count": 3,
   "metadata": {},
   "outputs": [
    {
     "data": {
      "text/plain": [
       "[(-1, -1), (-1, 0), (-1, 1), (0, -1), (0, 0), (0, 1), (1, -1), (1, 0), (1, 1)]"
      ]
     },
     "execution_count": 3,
     "metadata": {},
     "output_type": "execute_result"
    }
   ],
   "source": [
    "x = []\n",
    "for i in [-1, 0, 1]:\n",
    "    for j in [-1, 0, 1]:\n",
    "        x.append((i,j)        )\n",
    "\n",
    "x"
   ]
  },
  {
   "cell_type": "code",
   "execution_count": null,
   "metadata": {},
   "outputs": [],
   "source": []
  }
 ],
 "metadata": {
  "kernelspec": {
   "display_name": "cv",
   "language": "python",
   "name": "python3"
  },
  "language_info": {
   "codemirror_mode": {
    "name": "ipython",
    "version": 3
   },
   "file_extension": ".py",
   "mimetype": "text/x-python",
   "name": "python",
   "nbconvert_exporter": "python",
   "pygments_lexer": "ipython3",
   "version": "3.10.13"
  }
 },
 "nbformat": 4,
 "nbformat_minor": 2
}
