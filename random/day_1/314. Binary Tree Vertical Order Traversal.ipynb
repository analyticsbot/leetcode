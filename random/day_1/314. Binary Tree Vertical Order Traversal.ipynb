{
 "cells": [
  {
   "cell_type": "markdown",
   "metadata": {},
   "source": [
    "## Problem: Vertical Order Traversal of a Binary Tree\n",
    "\n",
    "### Description\n",
    "Given the root of a binary tree, return the vertical order traversal of its nodes' values (i.e., from top to bottom, column by column).\n",
    "\n",
    "If two nodes are in the same row and column, the order should be from left to right.\n",
    "\n",
    "---\n",
    "\n",
    "### Example 1:\n",
    "**Input:**  \n",
    "`root = [3,9,20,null,null,15,7]`  \n",
    "**Output:**  \n",
    "`[[9],[3,15],[20],[7]]`\n",
    "\n",
    "---\n",
    "\n",
    "### Example 2:\n",
    "**Input:**  \n",
    "`root = [3,9,8,4,0,1,7]`  \n",
    "**Output:**  \n",
    "`[[4],[9],[3,0,1],[8],[7]]`\n",
    "\n",
    "---\n",
    "\n",
    "### Example 3:\n",
    "**Input:**  \n",
    "`root = [1,2,3,4,10,9,11,null,5,null,null,null,null,null,null,null,6]`  \n",
    "**Output:**  \n",
    "`[[4],[2,5],[1,10,9,6],[3],[11]]`\n",
    "\n",
    "---\n",
    "\n",
    "### Constraints:\n",
    "1. The number of nodes in the tree is in the range `[0, 100]`.\n",
    "2. `-100 <= Node.val <= 100`\n"
   ]
  },
  {
   "cell_type": "code",
   "execution_count": null,
   "metadata": {},
   "outputs": [],
   "source": [
    "# Definition for a binary tree node.\n",
    "# class TreeNode:\n",
    "#     def __init__(self, val=0, left=None, right=None):\n",
    "#         self.val = val\n",
    "#         self.left = left\n",
    "#         self.right = right\n",
    "from collections import defaultdict, deque\n",
    "from typing import List, Optional\n",
    "\n",
    "class Solution:\n",
    "    def verticalOrder(self, root: Optional[TreeNode]) -> List[List[int]]:\n",
    "        if not root:\n",
    "            return []\n",
    "        result = defaultdict(list)\n",
    "\n",
    "        queue = deque([(root, 0)])\n",
    "        while queue:\n",
    "            node, level = queue.popleft()\n",
    "\n",
    "            result[level].append(node.val)\n",
    "\n",
    "            if node.left:\n",
    "                queue.append((node.left, level-1))\n",
    "\n",
    "            if node.right:\n",
    "                queue.append((node.right, level+1))\n",
    "\n",
    "        #print ([x[1] for x in sorted(result.items(), reverse=False)])\n",
    "        return [x[1] for x in sorted(result.items(), reverse=False)]\n",
    "\n"
   ]
  },
  {
   "cell_type": "code",
   "execution_count": null,
   "metadata": {},
   "outputs": [],
   "source": []
  }
 ],
 "metadata": {
  "language_info": {
   "name": "python"
  }
 },
 "nbformat": 4,
 "nbformat_minor": 2
}
