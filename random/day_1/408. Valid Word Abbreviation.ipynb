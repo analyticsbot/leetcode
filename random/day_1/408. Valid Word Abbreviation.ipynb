{
 "cells": [
  {
   "cell_type": "markdown",
   "metadata": {},
   "source": [
    "# Easy\n",
    "## Topics: Strings, Validation\n",
    "## Companies: [Relevant Company Names]\n",
    "\n",
    "A string can be abbreviated by replacing any number of non-adjacent, non-empty substrings with their lengths. The lengths should not have leading zeros.\n",
    "\n",
    "For example, a string such as `\"substitution\"` could be abbreviated as (but not limited to):\n",
    "\n",
    "- `\"s10n\"` (\"s ubstitutio n\")\n",
    "- `\"sub4u4\"` (\"sub stit u tion\")\n",
    "- `\"12\"` (\"substitution\")\n",
    "- `\"su3i1u2on\"` (\"su bst i t u ti on\")\n",
    "- `\"substitution\"` (no substrings replaced)\n",
    "\n",
    "The following are not valid abbreviations:\n",
    "\n",
    "- `\"s55n\"` (\"s ubsti tutio n\", the replaced substrings are adjacent)\n",
    "- `\"s010n\"` (has leading zeros)\n",
    "- `\"s0ubstitution\"` (replaces an empty substring)\n",
    "\n",
    "Given a string `word` and an abbreviation `abbr`, return whether the string matches the given abbreviation.\n",
    "\n",
    "A substring is a contiguous non-empty sequence of characters within a string.\n",
    "\n",
    "---\n",
    "\n",
    "## Example 1\n",
    "\n",
    "**Input:**  \n",
    "`word = \"internationalization\", abbr = \"i12iz4n\"`\n",
    "\n",
    "**Output:**  \n",
    "`true`\n",
    "\n",
    "**Explanation:**  \n",
    "The word `\"internationalization\"` can be abbreviated as `\"i12iz4n\"` (\"i nternational iz atio n\").\n",
    "\n",
    "---\n",
    "\n",
    "## Example 2\n",
    "\n",
    "**Input:**  \n",
    "`word = \"apple\", abbr = \"a2e\"`\n",
    "\n",
    "**Output:**  \n",
    "`false`\n",
    "\n",
    "**Explanation:**  \n",
    "The word `\"apple\"` cannot be abbreviated as `\"a2e\"`.\n",
    "\n",
    "---\n",
    "\n",
    "## Constraints\n",
    "\n",
    "- `1 <= word.length <= 20`\n",
    "- `word` consists of only lowercase English letters.\n",
    "- `1 <= abbr.length <= 10`\n",
    "- `abbr` consists of lowercase English letters and digits.\n",
    "- All the integers in `abbr` will fit in a 32-bit integer.\n"
   ]
  },
  {
   "cell_type": "code",
   "execution_count": 14,
   "metadata": {},
   "outputs": [],
   "source": [
    "class Solution:\n",
    "    def validWordAbbreviation(self, word: str, abbr: str) -> bool:\n",
    "        left_wd_ix, left_ab_ix = 0, 0\n",
    "\n",
    "        while left_wd_ix < len(word) and left_ab_ix < len(abbr):\n",
    "            if abbr[left_ab_ix].isdigit():\n",
    "                if abbr[left_ab_ix] == '0':  # Abbreviation can't start with 0\n",
    "                    return False\n",
    "                \n",
    "                current_num = 0\n",
    "                while left_ab_ix < len(abbr) and abbr[left_ab_ix].isdigit():\n",
    "                    current_num = current_num * 10 + int(abbr[left_ab_ix])\n",
    "                    left_ab_ix += 1\n",
    "                \n",
    "                left_wd_ix += current_num  # Skip characters in the word\n",
    "            else:\n",
    "                if left_wd_ix >= len(word) or abbr[left_ab_ix] != word[left_wd_ix]:\n",
    "                    return False\n",
    "                left_ab_ix += 1\n",
    "                left_wd_ix += 1\n",
    "\n",
    "        # Ensure both indices have reached the end\n",
    "        return left_wd_ix == len(word) and left_ab_ix == len(abbr)\n"
   ]
  },
  {
   "cell_type": "code",
   "execution_count": 15,
   "metadata": {},
   "outputs": [
    {
     "data": {
      "text/plain": [
       "True"
      ]
     },
     "execution_count": 15,
     "metadata": {},
     "output_type": "execute_result"
    }
   ],
   "source": [
    "s =  Solution()\n",
    "s.validWordAbbreviation(word=\"internationalization\", abbr=\"i5a11o1\")"
   ]
  },
  {
   "cell_type": "code",
   "execution_count": null,
   "metadata": {},
   "outputs": [],
   "source": []
  }
 ],
 "metadata": {
  "kernelspec": {
   "display_name": "cv",
   "language": "python",
   "name": "python3"
  },
  "language_info": {
   "codemirror_mode": {
    "name": "ipython",
    "version": 3
   },
   "file_extension": ".py",
   "mimetype": "text/x-python",
   "name": "python",
   "nbconvert_exporter": "python",
   "pygments_lexer": "ipython3",
   "version": "3.10.13"
  }
 },
 "nbformat": 4,
 "nbformat_minor": 2
}
