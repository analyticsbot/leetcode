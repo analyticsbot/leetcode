{
 "cells": [
  {
   "cell_type": "markdown",
   "metadata": {},
   "source": [
    "## Problem: Split Message into Parts with Suffix\n",
    "\n",
    "### Description\n",
    "You are given a string `message` and a positive integer `limit`. You must split the `message` into one or more parts based on the `limit`. Each resulting part should have the suffix `<a/b>`, where:\n",
    "- `a` is the index of the part (starting from 1),\n",
    "- `b` is the total number of parts.\n",
    "\n",
    "Additionally, the length of each part (including its suffix) should be equal to `limit`, except for the last part, which can be at most `limit`. The resulting parts should be formed such that, when their suffixes are removed and they are all concatenated in order, they should be equal to `message`. The result should contain as few parts as possible.\n",
    "\n",
    "Return the parts `message` would be split into as an array of strings. If it is impossible to split `message` as required, return an empty array.\n",
    "\n",
    "### Example 1:\n",
    "**Input:**  \n",
    "`message = \"this is really a very awesome message\"`,  \n",
    "`limit = 9`  \n",
    "\n",
    "**Output:**  \n",
    "`[\"thi<1/14>\", \"s i<2/14>\", \"s r<3/14>\", \"eal<4/14>\", \"ly <5/14>\", \"a v<6/14>\", \"ery<7/14>\", \" aw<8/14>\", \"eso<9/14>\", \"me<10/14>\", \" m<11/14>\", \"es<12/14>\", \"sa<13/14>\", \"ge<14/14>\"]`\n",
    "\n",
    "**Explanation:**  \n",
    "The first 9 parts take 3 characters each from the beginning of the message. The next 5 parts take 2 characters each to finish splitting the message. In this example, each part, including the last, has a length of 9. It can be shown it is not possible to split the message into fewer than 14 parts.\n",
    "\n",
    "### Example 2:\n",
    "**Input:**  \n",
    "`message = \"short message\"`,  \n",
    "`limit = 15`  \n",
    "\n",
    "**Output:**  \n",
    "`[\"short mess<1/2>\", \"age<2/2>\"]`\n",
    "\n",
    "**Explanation:**  \n",
    "Under the given constraints, the string can be split into two parts:\n",
    "- The first part comprises the first 10 characters and has a length of 15.\n",
    "- The next part comprises the last 3 characters and has a length of 8.\n",
    "\n",
    "### Constraints:\n",
    "- `1 <= message.length <= 104`\n",
    "- `message` consists only of lowercase English letters and spaces.\n",
    "- `1 <= limit <= 104`\n"
   ]
  },
  {
   "cell_type": "markdown",
   "metadata": {},
   "source": []
  }
 ],
 "metadata": {
  "language_info": {
   "name": "python"
  }
 },
 "nbformat": 4,
 "nbformat_minor": 2
}
