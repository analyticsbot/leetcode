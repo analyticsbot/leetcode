{
 "cells": [
  {
   "cell_type": "markdown",
   "metadata": {},
   "source": [
    "## Problem\n",
    "\n",
    "You are given a binary array `nums`.\n",
    "\n",
    "We call a **subarray** alternating if no two adjacent elements in the subarray have the same value.\n",
    "\n",
    "Return the number of alternating subarrays in `nums`.\n",
    "\n",
    "### Example 1:\n",
    "\n",
    "**Input:** `nums = [0,1,1,1]`\n",
    "\n",
    "**Output:** `5`\n",
    "\n",
    "**Explanation:**\n",
    "\n",
    "The following subarrays are alternating: `[0]`, `[1]`, `[1]`, `[1]`, and `[0,1]`.\n",
    "\n",
    "### Example 2:\n",
    "\n",
    "**Input:** `nums = [1,0,1,0]`\n",
    "\n",
    "**Output:** `10`\n",
    "\n",
    "**Explanation:**\n",
    "\n",
    "Every subarray of the array is alternating. There are 10 possible subarrays that we can choose.\n",
    "\n",
    "### Constraints:\n",
    "\n",
    "- `1 <= nums.length <= 10^5`\n",
    "- `nums[i]` is either `0` or `1`.\n"
   ]
  },
  {
   "cell_type": "code",
   "execution_count": null,
   "metadata": {},
   "outputs": [],
   "source": [
    "class Solution:\n",
    "    def countAlternatingSubarrays(self, nums: List[int]) -> int:\n",
    "        count = 0  # Initialize the count of alternating subarrays\n",
    "        n = len(nums)\n",
    "        \n",
    "        # Iterate over the array\n",
    "        for i in range(n):\n",
    "            # Start a new alternating subarray from each position\n",
    "            for j in range(i + 1, n + 1):\n",
    "                # Check if the current subarray nums[i:j] is alternating\n",
    "                is_alternating = True\n",
    "                for k in range(i + 1, j):\n",
    "                    if nums[k] == nums[k - 1]:  # Two adjacent elements should not be the same\n",
    "                        is_alternating = False\n",
    "                        break\n",
    "                if is_alternating:\n",
    "                    count += 1  # Increment count if it's alternating\n",
    "                else:\n",
    "                    break  # No need to check further as the subarray is no longer alternating\n",
    "                \n",
    "        return count\n"
   ]
  },
  {
   "cell_type": "code",
   "execution_count": null,
   "metadata": {},
   "outputs": [],
   "source": [
    "class Solution:\n",
    "    def countAlternatingSubarrays(self, nums: List[int]) -> int:\n",
    "        count = 0\n",
    "        n = len(nums)\n",
    "        \n",
    "        # Track the length of the current alternating subarray\n",
    "        length = 1\n",
    "        \n",
    "        for i in range(1, n):\n",
    "            if nums[i] != nums[i - 1]:  # Check if current and previous are alternating\n",
    "                length += 1  # Extend the alternating subarray\n",
    "            else:\n",
    "                count += (length * (length + 1)) // 2  # Add subarrays for the previous alternating sequence\n",
    "                length = 1  # Reset the length for the new subarray\n",
    "                \n",
    "        # Add the last sequence\n",
    "        count += (length * (length + 1)) // 2\n",
    "        \n",
    "        return count\n"
   ]
  }
 ],
 "metadata": {
  "language_info": {
   "name": "python"
  }
 },
 "nbformat": 4,
 "nbformat_minor": 2
}
