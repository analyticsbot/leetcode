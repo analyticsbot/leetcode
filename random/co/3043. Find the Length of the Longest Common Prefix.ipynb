{
 "cells": [
  {
   "cell_type": "code",
   "execution_count": null,
   "metadata": {
    "vscode": {
     "languageId": "plaintext"
    }
   },
   "outputs": [],
   "source": [
    "Medium\n",
    "Topics\n",
    "Companies\n",
    "Hint\n",
    "You are given two arrays with positive integers arr1 and arr2.\n",
    "\n",
    "A prefix of a positive integer is an integer formed by one or more of its digits, starting from its leftmost digit. For example, 123 is a prefix of the integer 12345, while 234 is not.\n",
    "\n",
    "A common prefix of two integers a and b is an integer c, such that c is a prefix of both a and b. For example, 5655359 and 56554 have common prefixes 565 and 5655 while 1223 and 43456 do not have a common prefix.\n",
    "\n",
    "You need to find the length of the longest common prefix between all pairs of integers (x, y) such that x belongs to arr1 and y belongs to arr2.\n",
    "\n",
    "Return the length of the longest common prefix among all pairs. If no common prefix exists among them, return 0.\n",
    "\n",
    " \n",
    "\n",
    "Example 1:\n",
    "\n",
    "Input: arr1 = [1,10,100], arr2 = [1000]\n",
    "Output: 3\n",
    "Explanation: There are 3 pairs (arr1[i], arr2[j]):\n",
    "- The longest common prefix of (1, 1000) is 1.\n",
    "- The longest common prefix of (10, 1000) is 10.\n",
    "- The longest common prefix of (100, 1000) is 100.\n",
    "The longest common prefix is 100 with a length of 3.\n",
    "Example 2:\n",
    "\n",
    "Input: arr1 = [1,2,3], arr2 = [4,4,4]\n",
    "Output: 0\n",
    "Explanation: There exists no common prefix for any pair (arr1[i], arr2[j]), hence we return 0.\n",
    "Note that common prefixes between elements of the same array do not count.\n",
    " \n",
    "\n",
    "Constraints:\n",
    "\n",
    "1 <= arr1.length, arr2.length <= 5 * 104\n",
    "1 <= arr1[i], arr2[i] <= 108"
   ]
  },
  {
   "cell_type": "markdown",
   "metadata": {},
   "source": [
    "class Solution:\n",
    "    def longestCommonPrefix(self, arr1: List[int], arr2: List[int]) -> int:\n",
    "        def common_prefix_length(a: int, b: int) -> int:\n",
    "            # Convert integers to strings\n",
    "            str_a, str_b = str(a), str(b)\n",
    "            # Find the length of common prefix\n",
    "            i = 0\n",
    "            while i < len(str_a) and i < len(str_b) and str_a[i] == str_b[i]:\n",
    "                i += 1\n",
    "            return i\n",
    "        \n",
    "        max_len = 0\n",
    "        \n",
    "        # Iterate over all pairs of elements from arr1 and arr2\n",
    "        for num1 in arr1:\n",
    "            for num2 in arr2:\n",
    "                max_len = max(max_len, common_prefix_length(num1, num2))\n",
    "        \n",
    "        return max_len\n"
   ]
  }
 ],
 "metadata": {
  "language_info": {
   "name": "python"
  }
 },
 "nbformat": 4,
 "nbformat_minor": 2
}
