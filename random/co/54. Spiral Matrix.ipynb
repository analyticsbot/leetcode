{
 "cells": [
  {
   "cell_type": "markdown",
   "metadata": {},
   "source": [
    "**Medium**  \n",
    "**Topics**  \n",
    "**Companies**  \n",
    "**Hint**  \n",
    "Given an `m x n` matrix, return all elements of the matrix in spiral order.\n",
    "\n",
    "---\n",
    "\n",
    "### Example 1:\n",
    "\n",
    "**Input:**  \n",
    "`matrix = [[1,2,3],[4,5,6],[7,8,9]]`  \n",
    "**Output:**  \n",
    "`[1,2,3,6,9,8,7,4,5]`\n",
    "\n",
    "---\n",
    "\n",
    "### Example 2:\n",
    "\n",
    "**Input:**  \n",
    "`matrix = [[1,2,3,4],[5,6,7,8],[9,10,11,12]]`  \n",
    "**Output:**  \n",
    "`[1,2,3,4,8,12,11,10,9,5,6,7]`\n",
    "\n",
    "---\n",
    "\n",
    "### Constraints:\n",
    "\n",
    "- `m == matrix.length`\n",
    "- `n == matrix[i].length`\n",
    "- `1 <= m, n <= 10`\n",
    "- `-100 <= matrix[i][j] <= 100`\n"
   ]
  },
  {
   "cell_type": "code",
   "execution_count": null,
   "metadata": {},
   "outputs": [],
   "source": [
    "class Solution:\n",
    "    def spiralOrder(self, matrix: List[List[int]]) -> List[int]:\n",
    "        result = []\n",
    "        top, bottom = 0, len(matrix) - 1\n",
    "        left, right = 0, len(matrix[0]) - 1\n",
    "        \n",
    "        while top <= bottom and left <= right:\n",
    "            # Traverse from left to right\n",
    "            for i in range(left, right + 1):\n",
    "                result.append(matrix[top][i])\n",
    "            top += 1\n",
    "            \n",
    "            # Traverse from top to bottom\n",
    "            for i in range(top, bottom + 1):\n",
    "                result.append(matrix[i][right])\n",
    "            right -= 1\n",
    "            \n",
    "            if top <= bottom:\n",
    "                # Traverse from right to left\n",
    "                for i in range(right, left - 1, -1):\n",
    "                    result.append(matrix[bottom][i])\n",
    "                bottom -= 1\n",
    "            \n",
    "            if left <= right:\n",
    "                # Traverse from bottom to top\n",
    "                for i in range(bottom, top - 1, -1):\n",
    "                    result.append(matrix[i][left])\n",
    "                left += 1\n",
    "        \n",
    "        return result\n"
   ]
  }
 ],
 "metadata": {
  "language_info": {
   "name": "python"
  }
 },
 "nbformat": 4,
 "nbformat_minor": 2
}
