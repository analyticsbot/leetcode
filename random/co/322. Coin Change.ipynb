{
 "cells": [
  {
   "cell_type": "markdown",
   "metadata": {},
   "source": [
    "## Problem: Coin Change\n",
    "\n",
    "### Medium\n",
    "\n",
    "#### Problem Description:\n",
    "\n",
    "You are given an integer array `coins` representing coins of different denominations and an integer `amount` representing a total amount of money.\n",
    "\n",
    "Return the fewest number of coins that you need to make up that amount. If that amount of money cannot be made up by any combination of the coins, return -1.\n",
    "\n",
    "You may assume that you have an infinite number of each kind of coin.\n",
    "\n",
    "#### Example 1:\n",
    "\n",
    "- **Input:** `coins = [1,2,5]`, `amount = 11`\n",
    "- **Output:** `3`\n",
    "- **Explanation:** `11 = 5 + 5 + 1`\n",
    "\n",
    "#### Example 2:\n",
    "\n",
    "- **Input:** `coins = [2]`, `amount = 3`\n",
    "- **Output:** `-1`\n",
    "\n",
    "#### Example 3:\n",
    "\n",
    "- **Input:** `coins = [1]`, `amount = 0`\n",
    "- **Output:** `0`\n",
    "\n",
    "---\n",
    "\n",
    "#### Constraints:\n",
    "\n",
    "- `1 <= coins.length <= 12`\n",
    "- `1 <= coins[i] <= 231 - 1`\n",
    "- `0 <= amount <= 104`\n"
   ]
  },
  {
   "cell_type": "code",
   "execution_count": null,
   "metadata": {},
   "outputs": [],
   "source": [
    "class Solution:\n",
    "    def coinChange(self, coins: List[int], amount: int) -> int:\n",
    "        # Initialize dp array with inf, except dp[0] = 0\n",
    "        dp = [float('inf')] * (amount + 1)\n",
    "        dp[0] = 0\n",
    "        \n",
    "        # Iterate over each coin\n",
    "        for coin in coins:\n",
    "            # Update the dp array for each amount from coin to amount\n",
    "            for i in range(coin, amount + 1):\n",
    "                dp[i] = min(dp[i], dp[i - coin] + 1)\n",
    "        \n",
    "        # Return the result for the given amount\n",
    "        return dp[amount] if dp[amount] != float('inf') else -1\n"
   ]
  }
 ],
 "metadata": {
  "language_info": {
   "name": "python"
  }
 },
 "nbformat": 4,
 "nbformat_minor": 2
}
