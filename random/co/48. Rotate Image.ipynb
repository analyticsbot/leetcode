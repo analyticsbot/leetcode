{
 "cells": [
  {
   "cell_type": "markdown",
   "metadata": {},
   "source": [
    "### Medium\n",
    "#### Topics\n",
    "#### Companies\n",
    "\n",
    "You are given an `n x n` 2D matrix representing an image, rotate the image by 90 degrees (clockwise).\n",
    "\n",
    "You have to rotate the image **in-place**, which means you have to modify the input 2D matrix directly. **DO NOT** allocate another 2D matrix and do the rotation.\n",
    "\n",
    "---\n",
    "\n",
    "### Example 1:\n",
    "\n",
    "**Input:**  \n",
    "`matrix = [[1,2,3],[4,5,6],[7,8,9]]`  \n",
    "**Output:**  \n",
    "`[[7,4,1],[8,5,2],[9,6,3]]`\n",
    "\n",
    "---\n",
    "\n",
    "### Example 2:\n",
    "\n",
    "**Input:**  \n",
    "`matrix = [[5,1,9,11],[2,4,8,10],[13,3,6,7],[15,14,12,16]]`  \n",
    "**Output:**  \n",
    "`[[15,13,2,5],[14,3,4,1],[12,6,8,9],[16,7,10,11]]`\n",
    "\n",
    "---\n",
    "\n",
    "### Constraints:\n",
    "- `n == matrix.length == matrix[i].length`\n",
    "- `1 <= n <= 20`\n",
    "- `-1000 <= matrix[i][j] <= 1000`\n"
   ]
  },
  {
   "cell_type": "code",
   "execution_count": null,
   "metadata": {},
   "outputs": [],
   "source": [
    "class Solution:\n",
    "    def rotate(self, matrix: List[List[int]]) -> None:\n",
    "        \"\"\"\n",
    "        Do not return anything, modify matrix in-place instead.\n",
    "        \"\"\"\n",
    "        n = len(matrix)\n",
    "        \n",
    "        # Step 1: Transpose the matrix\n",
    "        for i in range(n):\n",
    "            for j in range(i + 1, n):  # Only go through the upper triangle\n",
    "                matrix[i][j], matrix[j][i] = matrix[j][i], matrix[i][j]\n",
    "        \n",
    "        # Step 2: Reverse each row\n",
    "        for i in range(n):\n",
    "            matrix[i].reverse()\n"
   ]
  }
 ],
 "metadata": {
  "language_info": {
   "name": "python"
  }
 },
 "nbformat": 4,
 "nbformat_minor": 2
}
