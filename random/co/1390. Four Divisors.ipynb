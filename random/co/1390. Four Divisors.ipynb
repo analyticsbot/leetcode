{
 "cells": [
  {
   "cell_type": "markdown",
   "metadata": {},
   "source": [
    "**Medium**\n",
    "\n",
    "### Topics\n",
    "- Arrays\n",
    "- Math\n",
    "\n",
    "### Companies\n",
    "- Not specified\n",
    "\n",
    "---\n",
    "\n",
    "### Problem\n",
    "\n",
    "Given an integer array `nums`, return the sum of divisors of the integers in that array that have exactly four divisors. If there is no such integer in the array, return `0`.\n",
    "\n",
    "---\n",
    "\n",
    "### Example 1:\n",
    "\n",
    "**Input**: `nums = [21,4,7]`  \n",
    "**Output**: `32`  \n",
    "**Explanation**:  \n",
    "- `21` has 4 divisors: `1, 3, 7, 21`  \n",
    "- `4` has 3 divisors: `1, 2, 4`  \n",
    "- `7` has 2 divisors: `1, 7`  \n",
    "The answer is the sum of divisors of `21` only.\n",
    "\n",
    "---\n",
    "\n",
    "### Example 2:\n",
    "\n",
    "**Input**: `nums = [21,21]`  \n",
    "**Output**: `64`  \n",
    "\n",
    "---\n",
    "\n",
    "### Example 3:\n",
    "\n",
    "**Input**: `nums = [1,2,3,4,5]`  \n",
    "**Output**: `0`  \n",
    "\n",
    "---\n",
    "\n",
    "### Constraints:\n",
    "\n",
    "- `1 <= nums.length <= 10^4`  \n",
    "- `1 <= nums[i] <= 10^5`\n"
   ]
  },
  {
   "cell_type": "markdown",
   "metadata": {},
   "source": [
    "class Solution:\n",
    "    def sumFourDivisors(self, nums: List[int]) -> int:\n",
    "        \n",
    "        def num_div(num):\n",
    "            num_=[]\n",
    "            for i in range(1, (num//2)+1):\n",
    "                if num%i==0:\n",
    "                    num_.append(i)\n",
    "            return num_\n",
    "        \n",
    "        total=0\n",
    "        for num in nums:\n",
    "            num_ = num_div(num)\n",
    "            if len(num_)==3:\n",
    "                total+=sum(num_)+num\n",
    "        return total"
   ]
  },
  {
   "cell_type": "code",
   "execution_count": null,
   "metadata": {
    "vscode": {
     "languageId": "plaintext"
    }
   },
   "outputs": [],
   "source": [
    "class Solution:\n",
    "    def sumFourDivisors(self, nums: List[int]) -> int:\n",
    "        def num_divisors_and_sum(num):\n",
    "            divisors = set()\n",
    "            for i in range(1, int(num**0.5) + 1):\n",
    "                if num % i == 0:\n",
    "                    divisors.add(i)\n",
    "                    divisors.add(num // i)\n",
    "                if len(divisors) > 4:  # Stop if more than 4 divisors\n",
    "                    return 0\n",
    "            return sum(divisors) if len(divisors) == 4 else 0\n",
    "        \n",
    "        total = 0\n",
    "        for num in nums:\n",
    "            total += num_divisors_and_sum(num)\n",
    "        return total\n"
   ]
  }
 ],
 "metadata": {
  "language_info": {
   "name": "python"
  }
 },
 "nbformat": 4,
 "nbformat_minor": 2
}
