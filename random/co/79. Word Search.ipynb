{
 "cells": [
  {
   "cell_type": "code",
   "execution_count": null,
   "metadata": {},
   "outputs": [],
   "source": [
    "class Solution:\n",
    "    def exist(self, board: List[List[str]], word: str) -> bool:\n",
    "        def dfs(i, j, k):\n",
    "            if k == len(word):\n",
    "                return True\n",
    "            if i < 0 or i >= len(board) or j < 0 or j >= len(board[0]) or board[i][j] != word[k]:\n",
    "                return False\n",
    "            \n",
    "            temp = board[i][j]\n",
    "            board[i][j] = '#'  # Mark as visited\n",
    "            \n",
    "            res = dfs(i + 1, j, k + 1) or dfs(i - 1, j, k + 1) or dfs(i, j + 1, k + 1) or dfs(i, j - 1, k + 1)\n",
    "            \n",
    "            board[i][j] = temp  # Backtrack\n",
    "            return res\n",
    "        \n",
    "        for i in range(len(board)):\n",
    "            for j in range(len(board[0])):\n",
    "                if board[i][j] == word[0] and dfs(i, j, 0):\n",
    "                    return True\n",
    "        return False"
   ]
  },
  {
   "cell_type": "code",
   "execution_count": null,
   "metadata": {},
   "outputs": [],
   "source": [
    "class Solution:\n",
    "    def exist(self, board: List[List[str]], word: str) -> bool:\n",
    "        def dfs(i, j, k):\n",
    "            if k == len(word):\n",
    "                return True\n",
    "            if i < 0 or i >= len(board) or j < 0 or j >= len(board[0]) or board[i][j] != word[k]:\n",
    "                return False\n",
    "\n",
    "            temp = board[i][j]\n",
    "            board[i][j] = '#'\n",
    "\n",
    "            directions = [(1, 0), (-1, 0), (0, 1), (0, -1)]\n",
    "            for dx, dy in directions:\n",
    "                new_x, new_y = i + dx, j + dy\n",
    "                if dfs(new_x, new_y, k + 1):\n",
    "                    return True\n",
    "\n",
    "            board[i][j] = temp\n",
    "            return False\n",
    "\n",
    "        for i in range(len(board)):\n",
    "            for j in range(len(board[0])):\n",
    "                if board[i][j] == word[0] and dfs(i, j, 0):\n",
    "                    return True\n",
    "        return False"
   ]
  }
 ],
 "metadata": {
  "language_info": {
   "name": "python"
  }
 },
 "nbformat": 4,
 "nbformat_minor": 2
}
